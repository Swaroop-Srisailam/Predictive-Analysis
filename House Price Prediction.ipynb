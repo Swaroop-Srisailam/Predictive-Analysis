{
 "cells": [
  {
   "cell_type": "markdown",
   "id": "d37605cf",
   "metadata": {},
   "source": [
    "Author:Sai Swaroop\n"
   ]
  },
  {
   "cell_type": "code",
   "execution_count": 82,
   "id": "33f6381c",
   "metadata": {},
   "outputs": [],
   "source": [
    "import pandas as pd \n",
    "import numpy as np \n",
    "import matplotlib.pyplot as plt\n",
    "import seaborn as sns\n",
    "from sklearn import preprocessing\n",
    "from sklearn.linear_model import LinearRegression\n",
    "from sklearn.tree import DecisionTreeRegressor\n",
    "from sklearn.ensemble import RandomForestRegressor\n",
    "from sklearn.preprocessing import PolynomialFeatures\n",
    "from sklearn.metrics import mean_squared_error\n",
    "from sklearn.preprocessing import LabelEncoder\n",
    "from sklearn.preprocessing import StandardScaler\n",
    "from sklearn.model_selection import train_test_split\n",
    "import plotly.express as px"
   ]
  },
  {
   "cell_type": "code",
   "execution_count": 2,
   "id": "a859f42a",
   "metadata": {},
   "outputs": [],
   "source": [
    "data = pd.read_csv('train.csv')"
   ]
  },
  {
   "cell_type": "code",
   "execution_count": 3,
   "id": "3883ebd8",
   "metadata": {},
   "outputs": [
    {
     "data": {
      "text/html": [
       "<div>\n",
       "<style scoped>\n",
       "    .dataframe tbody tr th:only-of-type {\n",
       "        vertical-align: middle;\n",
       "    }\n",
       "\n",
       "    .dataframe tbody tr th {\n",
       "        vertical-align: top;\n",
       "    }\n",
       "\n",
       "    .dataframe thead th {\n",
       "        text-align: right;\n",
       "    }\n",
       "</style>\n",
       "<table border=\"1\" class=\"dataframe\">\n",
       "  <thead>\n",
       "    <tr style=\"text-align: right;\">\n",
       "      <th></th>\n",
       "      <th>Id</th>\n",
       "      <th>MSSubClass</th>\n",
       "      <th>MSZoning</th>\n",
       "      <th>LotFrontage</th>\n",
       "      <th>LotArea</th>\n",
       "      <th>Street</th>\n",
       "      <th>Alley</th>\n",
       "      <th>LotShape</th>\n",
       "      <th>LandContour</th>\n",
       "      <th>Utilities</th>\n",
       "      <th>...</th>\n",
       "      <th>PoolArea</th>\n",
       "      <th>PoolQC</th>\n",
       "      <th>Fence</th>\n",
       "      <th>MiscFeature</th>\n",
       "      <th>MiscVal</th>\n",
       "      <th>MoSold</th>\n",
       "      <th>YrSold</th>\n",
       "      <th>SaleType</th>\n",
       "      <th>SaleCondition</th>\n",
       "      <th>SalePrice</th>\n",
       "    </tr>\n",
       "  </thead>\n",
       "  <tbody>\n",
       "    <tr>\n",
       "      <th>0</th>\n",
       "      <td>1</td>\n",
       "      <td>60</td>\n",
       "      <td>RL</td>\n",
       "      <td>65.0</td>\n",
       "      <td>8450</td>\n",
       "      <td>Pave</td>\n",
       "      <td>NaN</td>\n",
       "      <td>Reg</td>\n",
       "      <td>Lvl</td>\n",
       "      <td>AllPub</td>\n",
       "      <td>...</td>\n",
       "      <td>0</td>\n",
       "      <td>NaN</td>\n",
       "      <td>NaN</td>\n",
       "      <td>NaN</td>\n",
       "      <td>0</td>\n",
       "      <td>2</td>\n",
       "      <td>2008</td>\n",
       "      <td>WD</td>\n",
       "      <td>Normal</td>\n",
       "      <td>208500</td>\n",
       "    </tr>\n",
       "    <tr>\n",
       "      <th>1</th>\n",
       "      <td>2</td>\n",
       "      <td>20</td>\n",
       "      <td>RL</td>\n",
       "      <td>80.0</td>\n",
       "      <td>9600</td>\n",
       "      <td>Pave</td>\n",
       "      <td>NaN</td>\n",
       "      <td>Reg</td>\n",
       "      <td>Lvl</td>\n",
       "      <td>AllPub</td>\n",
       "      <td>...</td>\n",
       "      <td>0</td>\n",
       "      <td>NaN</td>\n",
       "      <td>NaN</td>\n",
       "      <td>NaN</td>\n",
       "      <td>0</td>\n",
       "      <td>5</td>\n",
       "      <td>2007</td>\n",
       "      <td>WD</td>\n",
       "      <td>Normal</td>\n",
       "      <td>181500</td>\n",
       "    </tr>\n",
       "    <tr>\n",
       "      <th>2</th>\n",
       "      <td>3</td>\n",
       "      <td>60</td>\n",
       "      <td>RL</td>\n",
       "      <td>68.0</td>\n",
       "      <td>11250</td>\n",
       "      <td>Pave</td>\n",
       "      <td>NaN</td>\n",
       "      <td>IR1</td>\n",
       "      <td>Lvl</td>\n",
       "      <td>AllPub</td>\n",
       "      <td>...</td>\n",
       "      <td>0</td>\n",
       "      <td>NaN</td>\n",
       "      <td>NaN</td>\n",
       "      <td>NaN</td>\n",
       "      <td>0</td>\n",
       "      <td>9</td>\n",
       "      <td>2008</td>\n",
       "      <td>WD</td>\n",
       "      <td>Normal</td>\n",
       "      <td>223500</td>\n",
       "    </tr>\n",
       "    <tr>\n",
       "      <th>3</th>\n",
       "      <td>4</td>\n",
       "      <td>70</td>\n",
       "      <td>RL</td>\n",
       "      <td>60.0</td>\n",
       "      <td>9550</td>\n",
       "      <td>Pave</td>\n",
       "      <td>NaN</td>\n",
       "      <td>IR1</td>\n",
       "      <td>Lvl</td>\n",
       "      <td>AllPub</td>\n",
       "      <td>...</td>\n",
       "      <td>0</td>\n",
       "      <td>NaN</td>\n",
       "      <td>NaN</td>\n",
       "      <td>NaN</td>\n",
       "      <td>0</td>\n",
       "      <td>2</td>\n",
       "      <td>2006</td>\n",
       "      <td>WD</td>\n",
       "      <td>Abnorml</td>\n",
       "      <td>140000</td>\n",
       "    </tr>\n",
       "    <tr>\n",
       "      <th>4</th>\n",
       "      <td>5</td>\n",
       "      <td>60</td>\n",
       "      <td>RL</td>\n",
       "      <td>84.0</td>\n",
       "      <td>14260</td>\n",
       "      <td>Pave</td>\n",
       "      <td>NaN</td>\n",
       "      <td>IR1</td>\n",
       "      <td>Lvl</td>\n",
       "      <td>AllPub</td>\n",
       "      <td>...</td>\n",
       "      <td>0</td>\n",
       "      <td>NaN</td>\n",
       "      <td>NaN</td>\n",
       "      <td>NaN</td>\n",
       "      <td>0</td>\n",
       "      <td>12</td>\n",
       "      <td>2008</td>\n",
       "      <td>WD</td>\n",
       "      <td>Normal</td>\n",
       "      <td>250000</td>\n",
       "    </tr>\n",
       "  </tbody>\n",
       "</table>\n",
       "<p>5 rows × 81 columns</p>\n",
       "</div>"
      ],
      "text/plain": [
       "   Id  MSSubClass MSZoning  LotFrontage  LotArea Street Alley LotShape  \\\n",
       "0   1          60       RL         65.0     8450   Pave   NaN      Reg   \n",
       "1   2          20       RL         80.0     9600   Pave   NaN      Reg   \n",
       "2   3          60       RL         68.0    11250   Pave   NaN      IR1   \n",
       "3   4          70       RL         60.0     9550   Pave   NaN      IR1   \n",
       "4   5          60       RL         84.0    14260   Pave   NaN      IR1   \n",
       "\n",
       "  LandContour Utilities  ... PoolArea PoolQC Fence MiscFeature MiscVal MoSold  \\\n",
       "0         Lvl    AllPub  ...        0    NaN   NaN         NaN       0      2   \n",
       "1         Lvl    AllPub  ...        0    NaN   NaN         NaN       0      5   \n",
       "2         Lvl    AllPub  ...        0    NaN   NaN         NaN       0      9   \n",
       "3         Lvl    AllPub  ...        0    NaN   NaN         NaN       0      2   \n",
       "4         Lvl    AllPub  ...        0    NaN   NaN         NaN       0     12   \n",
       "\n",
       "  YrSold  SaleType  SaleCondition  SalePrice  \n",
       "0   2008        WD         Normal     208500  \n",
       "1   2007        WD         Normal     181500  \n",
       "2   2008        WD         Normal     223500  \n",
       "3   2006        WD        Abnorml     140000  \n",
       "4   2008        WD         Normal     250000  \n",
       "\n",
       "[5 rows x 81 columns]"
      ]
     },
     "execution_count": 3,
     "metadata": {},
     "output_type": "execute_result"
    }
   ],
   "source": [
    "data.head()"
   ]
  },
  {
   "cell_type": "code",
   "execution_count": 4,
   "id": "61fe3633",
   "metadata": {},
   "outputs": [
    {
     "data": {
      "text/plain": [
       "(1460, 81)"
      ]
     },
     "execution_count": 4,
     "metadata": {},
     "output_type": "execute_result"
    }
   ],
   "source": [
    "data.shape"
   ]
  },
  {
   "cell_type": "code",
   "execution_count": 5,
   "id": "39b65557",
   "metadata": {
    "scrolled": true
   },
   "outputs": [
    {
     "name": "stdout",
     "output_type": "stream",
     "text": [
      "<class 'pandas.core.frame.DataFrame'>\n",
      "RangeIndex: 1460 entries, 0 to 1459\n",
      "Data columns (total 81 columns):\n",
      " #   Column         Non-Null Count  Dtype  \n",
      "---  ------         --------------  -----  \n",
      " 0   Id             1460 non-null   int64  \n",
      " 1   MSSubClass     1460 non-null   int64  \n",
      " 2   MSZoning       1460 non-null   object \n",
      " 3   LotFrontage    1201 non-null   float64\n",
      " 4   LotArea        1460 non-null   int64  \n",
      " 5   Street         1460 non-null   object \n",
      " 6   Alley          91 non-null     object \n",
      " 7   LotShape       1460 non-null   object \n",
      " 8   LandContour    1460 non-null   object \n",
      " 9   Utilities      1460 non-null   object \n",
      " 10  LotConfig      1460 non-null   object \n",
      " 11  LandSlope      1460 non-null   object \n",
      " 12  Neighborhood   1460 non-null   object \n",
      " 13  Condition1     1460 non-null   object \n",
      " 14  Condition2     1460 non-null   object \n",
      " 15  BldgType       1460 non-null   object \n",
      " 16  HouseStyle     1460 non-null   object \n",
      " 17  OverallQual    1460 non-null   int64  \n",
      " 18  OverallCond    1460 non-null   int64  \n",
      " 19  YearBuilt      1460 non-null   int64  \n",
      " 20  YearRemodAdd   1460 non-null   int64  \n",
      " 21  RoofStyle      1460 non-null   object \n",
      " 22  RoofMatl       1460 non-null   object \n",
      " 23  Exterior1st    1460 non-null   object \n",
      " 24  Exterior2nd    1460 non-null   object \n",
      " 25  MasVnrType     588 non-null    object \n",
      " 26  MasVnrArea     1452 non-null   float64\n",
      " 27  ExterQual      1460 non-null   object \n",
      " 28  ExterCond      1460 non-null   object \n",
      " 29  Foundation     1460 non-null   object \n",
      " 30  BsmtQual       1423 non-null   object \n",
      " 31  BsmtCond       1423 non-null   object \n",
      " 32  BsmtExposure   1422 non-null   object \n",
      " 33  BsmtFinType1   1423 non-null   object \n",
      " 34  BsmtFinSF1     1460 non-null   int64  \n",
      " 35  BsmtFinType2   1422 non-null   object \n",
      " 36  BsmtFinSF2     1460 non-null   int64  \n",
      " 37  BsmtUnfSF      1460 non-null   int64  \n",
      " 38  TotalBsmtSF    1460 non-null   int64  \n",
      " 39  Heating        1460 non-null   object \n",
      " 40  HeatingQC      1460 non-null   object \n",
      " 41  CentralAir     1460 non-null   object \n",
      " 42  Electrical     1459 non-null   object \n",
      " 43  1stFlrSF       1460 non-null   int64  \n",
      " 44  2ndFlrSF       1460 non-null   int64  \n",
      " 45  LowQualFinSF   1460 non-null   int64  \n",
      " 46  GrLivArea      1460 non-null   int64  \n",
      " 47  BsmtFullBath   1460 non-null   int64  \n",
      " 48  BsmtHalfBath   1460 non-null   int64  \n",
      " 49  FullBath       1460 non-null   int64  \n",
      " 50  HalfBath       1460 non-null   int64  \n",
      " 51  BedroomAbvGr   1460 non-null   int64  \n",
      " 52  KitchenAbvGr   1460 non-null   int64  \n",
      " 53  KitchenQual    1460 non-null   object \n",
      " 54  TotRmsAbvGrd   1460 non-null   int64  \n",
      " 55  Functional     1460 non-null   object \n",
      " 56  Fireplaces     1460 non-null   int64  \n",
      " 57  FireplaceQu    770 non-null    object \n",
      " 58  GarageType     1379 non-null   object \n",
      " 59  GarageYrBlt    1379 non-null   float64\n",
      " 60  GarageFinish   1379 non-null   object \n",
      " 61  GarageCars     1460 non-null   int64  \n",
      " 62  GarageArea     1460 non-null   int64  \n",
      " 63  GarageQual     1379 non-null   object \n",
      " 64  GarageCond     1379 non-null   object \n",
      " 65  PavedDrive     1460 non-null   object \n",
      " 66  WoodDeckSF     1460 non-null   int64  \n",
      " 67  OpenPorchSF    1460 non-null   int64  \n",
      " 68  EnclosedPorch  1460 non-null   int64  \n",
      " 69  3SsnPorch      1460 non-null   int64  \n",
      " 70  ScreenPorch    1460 non-null   int64  \n",
      " 71  PoolArea       1460 non-null   int64  \n",
      " 72  PoolQC         7 non-null      object \n",
      " 73  Fence          281 non-null    object \n",
      " 74  MiscFeature    54 non-null     object \n",
      " 75  MiscVal        1460 non-null   int64  \n",
      " 76  MoSold         1460 non-null   int64  \n",
      " 77  YrSold         1460 non-null   int64  \n",
      " 78  SaleType       1460 non-null   object \n",
      " 79  SaleCondition  1460 non-null   object \n",
      " 80  SalePrice      1460 non-null   int64  \n",
      "dtypes: float64(3), int64(35), object(43)\n",
      "memory usage: 924.0+ KB\n"
     ]
    }
   ],
   "source": [
    "data.info()"
   ]
  },
  {
   "cell_type": "code",
   "execution_count": 6,
   "id": "a4e14d98",
   "metadata": {},
   "outputs": [
    {
     "name": "stdout",
     "output_type": "stream",
     "text": [
      "Columns with Null Values:\n",
      "Index(['LotFrontage', 'Alley', 'MasVnrType', 'MasVnrArea', 'BsmtQual',\n",
      "       'BsmtCond', 'BsmtExposure', 'BsmtFinType1', 'BsmtFinType2',\n",
      "       'Electrical', 'FireplaceQu', 'GarageType', 'GarageYrBlt',\n",
      "       'GarageFinish', 'GarageQual', 'GarageCond', 'PoolQC', 'Fence',\n",
      "       'MiscFeature'],\n",
      "      dtype='object')\n",
      "\n",
      "Null Value Counts:\n",
      "LotFrontage      259\n",
      "Alley           1369\n",
      "MasVnrType       872\n",
      "MasVnrArea         8\n",
      "BsmtQual          37\n",
      "BsmtCond          37\n",
      "BsmtExposure      38\n",
      "BsmtFinType1      37\n",
      "BsmtFinType2      38\n",
      "Electrical         1\n",
      "FireplaceQu      690\n",
      "GarageType        81\n",
      "GarageYrBlt       81\n",
      "GarageFinish      81\n",
      "GarageQual        81\n",
      "GarageCond        81\n",
      "PoolQC          1453\n",
      "Fence           1179\n",
      "MiscFeature     1406\n",
      "dtype: int64\n"
     ]
    }
   ],
   "source": [
    "columns_with_nulls = data.columns[data.isnull().any()]\n",
    "\n",
    "data_with_nulls = data[columns_with_nulls]\n",
    "\n",
    "null_counts = data_with_nulls.isnull().sum()\n",
    "\n",
    "print(\"Columns with Null Values:\")\n",
    "print(columns_with_nulls)\n",
    "\n",
    "print(\"\\nNull Value Counts:\")\n",
    "print(null_counts)\n"
   ]
  },
  {
   "cell_type": "code",
   "execution_count": 7,
   "id": "c88b07f0",
   "metadata": {},
   "outputs": [],
   "source": [
    "data.drop(columns=['Alley','MasVnrType','FireplaceQu','PoolQC','Fence','MiscFeature','Id'], inplace=True)"
   ]
  },
  {
   "cell_type": "code",
   "execution_count": 9,
   "id": "0ce1e308",
   "metadata": {},
   "outputs": [
    {
     "name": "stdout",
     "output_type": "stream",
     "text": [
      "Columns with Null Values:\n",
      "LotFrontage     259\n",
      "MasVnrArea        8\n",
      "BsmtQual         37\n",
      "BsmtCond         37\n",
      "BsmtExposure     38\n",
      "BsmtFinType1     37\n",
      "BsmtFinType2     38\n",
      "Electrical        1\n",
      "GarageType       81\n",
      "GarageYrBlt      81\n",
      "GarageFinish     81\n",
      "GarageQual       81\n",
      "GarageCond       81\n",
      "dtype: int64\n"
     ]
    }
   ],
   "source": [
    "null_values = data.isnull().sum()\n",
    "\n",
    "print(\"Columns with Null Values:\")\n",
    "print(null_values[null_values > 0])"
   ]
  },
  {
   "cell_type": "code",
   "execution_count": 10,
   "id": "5d22d6a3",
   "metadata": {},
   "outputs": [
    {
     "name": "stdout",
     "output_type": "stream",
     "text": [
      "Numerical Columns:\n",
      "Index(['LotFrontage', 'MasVnrArea', 'GarageYrBlt'], dtype='object')\n"
     ]
    }
   ],
   "source": [
    "numerical_columns = data[['LotFrontage', 'MasVnrArea', 'BsmtQual', 'BsmtCond', 'BsmtExposure',\n",
    "                          'BsmtFinType1', 'BsmtFinType2', 'Electrical', 'GarageType',\n",
    "                          'GarageYrBlt', 'GarageFinish', 'GarageQual', 'GarageCond']].select_dtypes(include=['int64', 'float64']).columns\n",
    "\n",
    "print(\"Numerical Columns:\")\n",
    "print(numerical_columns)"
   ]
  },
  {
   "cell_type": "code",
   "execution_count": 11,
   "id": "865a2a1f",
   "metadata": {},
   "outputs": [],
   "source": [
    "columns_to_impute_mean = ['LotFrontage', 'MasVnrArea', 'GarageYrBlt']\n",
    "\n",
    "for column in columns_to_impute_mean:\n",
    "    data[column].fillna(data[column].mean(), inplace=True)"
   ]
  },
  {
   "cell_type": "code",
   "execution_count": 12,
   "id": "c7315d6c",
   "metadata": {},
   "outputs": [
    {
     "name": "stdout",
     "output_type": "stream",
     "text": [
      "Categorical Columns:\n",
      "Index(['BsmtQual', 'BsmtCond', 'BsmtExposure', 'BsmtFinType1', 'BsmtFinType2',\n",
      "       'Electrical', 'GarageType', 'GarageFinish', 'GarageQual', 'GarageCond'],\n",
      "      dtype='object')\n"
     ]
    }
   ],
   "source": [
    "categorical_columns = data[['LotFrontage', 'MasVnrArea', 'BsmtQual', 'BsmtCond', 'BsmtExposure',\n",
    "                          'BsmtFinType1', 'BsmtFinType2', 'Electrical', 'GarageType',\n",
    "                          'GarageYrBlt', 'GarageFinish', 'GarageQual', 'GarageCond']].select_dtypes(include=['object']).columns\n",
    "\n",
    "print(\"Categorical Columns:\")\n",
    "print(categorical_columns)"
   ]
  },
  {
   "cell_type": "code",
   "execution_count": 13,
   "id": "3c025689",
   "metadata": {},
   "outputs": [],
   "source": [
    "columns_to_impute_mode= ['BsmtQual', 'BsmtCond', 'BsmtExposure', 'BsmtFinType1', 'BsmtFinType2',\n",
    "                       'Electrical', 'GarageType', 'GarageFinish', 'GarageQual', 'GarageCond']\n",
    "\n",
    "for column in categorical_columns:\n",
    "    mode_value = data[column].mode()[0]  \n",
    "    data[column].fillna(mode_value, inplace=True)  "
   ]
  },
  {
   "cell_type": "code",
   "execution_count": 16,
   "id": "a40cef7a",
   "metadata": {},
   "outputs": [
    {
     "name": "stdout",
     "output_type": "stream",
     "text": [
      "No Missing Values in the DataFrame\n"
     ]
    }
   ],
   "source": [
    "missing_values = data.isnull().any()\n",
    "\n",
    "if missing_values.any():\n",
    "    print(\"Columns with Missing Values:\")\n",
    "    print(missing_values[missing_values].index)\n",
    "else:\n",
    "    print(\"No Missing Values in the DataFrame\")\n"
   ]
  },
  {
   "cell_type": "code",
   "execution_count": 56,
   "id": "32e2e1e9",
   "metadata": {},
   "outputs": [
    {
     "name": "stdout",
     "output_type": "stream",
     "text": [
      "Categorical Columns:\n",
      "Index(['MSZoning', 'Street', 'LotShape', 'LandContour', 'Utilities',\n",
      "       'LotConfig', 'LandSlope', 'Neighborhood', 'Condition1', 'Condition2',\n",
      "       'BldgType', 'HouseStyle', 'RoofStyle', 'RoofMatl', 'Exterior1st',\n",
      "       'Exterior2nd', 'ExterQual', 'ExterCond', 'Foundation', 'BsmtQual',\n",
      "       'BsmtCond', 'BsmtExposure', 'BsmtFinType1', 'BsmtFinType2', 'Heating',\n",
      "       'HeatingQC', 'CentralAir', 'Electrical', 'KitchenQual', 'Functional',\n",
      "       'GarageType', 'GarageFinish', 'GarageQual', 'GarageCond', 'PavedDrive',\n",
      "       'SaleType', 'SaleCondition'],\n",
      "      dtype='object')\n"
     ]
    }
   ],
   "source": [
    "categorical_columns_indata = data.select_dtypes(include=['object']).columns\n",
    "print(\"Categorical Columns:\")\n",
    "print(categorical_columns_indata)"
   ]
  },
  {
   "cell_type": "code",
   "execution_count": 57,
   "id": "f3595e7a",
   "metadata": {},
   "outputs": [],
   "source": [
    "# Create one-hot encoded DataFrame for categorical columns\n",
    "one_hot_encoded = pd.get_dummies(data[categorical_columns_indata], drop_first=True)\n",
    "\n",
    "# Concatenate the one-hot encoded DataFrame with the original DataFrame\n",
    "data_encoded = pd.concat([data, one_hot_encoded], axis=1)\n",
    "\n",
    "# Drop the original categorical columns from the DataFrame\n",
    "data_encoded.drop(columns=categorical_columns_indata, inplace=True)\n",
    "\n",
    "# Now, data_encoded contains the one-hot encoded data"
   ]
  },
  {
   "cell_type": "code",
   "execution_count": 58,
   "id": "a9d4a8e4",
   "metadata": {},
   "outputs": [
    {
     "data": {
      "text/html": [
       "<div>\n",
       "<style scoped>\n",
       "    .dataframe tbody tr th:only-of-type {\n",
       "        vertical-align: middle;\n",
       "    }\n",
       "\n",
       "    .dataframe tbody tr th {\n",
       "        vertical-align: top;\n",
       "    }\n",
       "\n",
       "    .dataframe thead th {\n",
       "        text-align: right;\n",
       "    }\n",
       "</style>\n",
       "<table border=\"1\" class=\"dataframe\">\n",
       "  <thead>\n",
       "    <tr style=\"text-align: right;\">\n",
       "      <th></th>\n",
       "      <th>MSSubClass</th>\n",
       "      <th>LotFrontage</th>\n",
       "      <th>LotArea</th>\n",
       "      <th>OverallQual</th>\n",
       "      <th>OverallCond</th>\n",
       "      <th>YearBuilt</th>\n",
       "      <th>YearRemodAdd</th>\n",
       "      <th>MasVnrArea</th>\n",
       "      <th>BsmtFinSF1</th>\n",
       "      <th>BsmtFinSF2</th>\n",
       "      <th>...</th>\n",
       "      <th>SaleType_ConLI</th>\n",
       "      <th>SaleType_ConLw</th>\n",
       "      <th>SaleType_New</th>\n",
       "      <th>SaleType_Oth</th>\n",
       "      <th>SaleType_WD</th>\n",
       "      <th>SaleCondition_AdjLand</th>\n",
       "      <th>SaleCondition_Alloca</th>\n",
       "      <th>SaleCondition_Family</th>\n",
       "      <th>SaleCondition_Normal</th>\n",
       "      <th>SaleCondition_Partial</th>\n",
       "    </tr>\n",
       "  </thead>\n",
       "  <tbody>\n",
       "    <tr>\n",
       "      <th>0</th>\n",
       "      <td>60</td>\n",
       "      <td>65.0</td>\n",
       "      <td>8450</td>\n",
       "      <td>7</td>\n",
       "      <td>5</td>\n",
       "      <td>2003</td>\n",
       "      <td>2003</td>\n",
       "      <td>196.0</td>\n",
       "      <td>706</td>\n",
       "      <td>0</td>\n",
       "      <td>...</td>\n",
       "      <td>False</td>\n",
       "      <td>False</td>\n",
       "      <td>False</td>\n",
       "      <td>False</td>\n",
       "      <td>True</td>\n",
       "      <td>False</td>\n",
       "      <td>False</td>\n",
       "      <td>False</td>\n",
       "      <td>True</td>\n",
       "      <td>False</td>\n",
       "    </tr>\n",
       "    <tr>\n",
       "      <th>1</th>\n",
       "      <td>20</td>\n",
       "      <td>80.0</td>\n",
       "      <td>9600</td>\n",
       "      <td>6</td>\n",
       "      <td>8</td>\n",
       "      <td>1976</td>\n",
       "      <td>1976</td>\n",
       "      <td>0.0</td>\n",
       "      <td>978</td>\n",
       "      <td>0</td>\n",
       "      <td>...</td>\n",
       "      <td>False</td>\n",
       "      <td>False</td>\n",
       "      <td>False</td>\n",
       "      <td>False</td>\n",
       "      <td>True</td>\n",
       "      <td>False</td>\n",
       "      <td>False</td>\n",
       "      <td>False</td>\n",
       "      <td>True</td>\n",
       "      <td>False</td>\n",
       "    </tr>\n",
       "    <tr>\n",
       "      <th>2</th>\n",
       "      <td>60</td>\n",
       "      <td>68.0</td>\n",
       "      <td>11250</td>\n",
       "      <td>7</td>\n",
       "      <td>5</td>\n",
       "      <td>2001</td>\n",
       "      <td>2002</td>\n",
       "      <td>162.0</td>\n",
       "      <td>486</td>\n",
       "      <td>0</td>\n",
       "      <td>...</td>\n",
       "      <td>False</td>\n",
       "      <td>False</td>\n",
       "      <td>False</td>\n",
       "      <td>False</td>\n",
       "      <td>True</td>\n",
       "      <td>False</td>\n",
       "      <td>False</td>\n",
       "      <td>False</td>\n",
       "      <td>True</td>\n",
       "      <td>False</td>\n",
       "    </tr>\n",
       "    <tr>\n",
       "      <th>3</th>\n",
       "      <td>70</td>\n",
       "      <td>60.0</td>\n",
       "      <td>9550</td>\n",
       "      <td>7</td>\n",
       "      <td>5</td>\n",
       "      <td>1915</td>\n",
       "      <td>1970</td>\n",
       "      <td>0.0</td>\n",
       "      <td>216</td>\n",
       "      <td>0</td>\n",
       "      <td>...</td>\n",
       "      <td>False</td>\n",
       "      <td>False</td>\n",
       "      <td>False</td>\n",
       "      <td>False</td>\n",
       "      <td>True</td>\n",
       "      <td>False</td>\n",
       "      <td>False</td>\n",
       "      <td>False</td>\n",
       "      <td>False</td>\n",
       "      <td>False</td>\n",
       "    </tr>\n",
       "    <tr>\n",
       "      <th>4</th>\n",
       "      <td>60</td>\n",
       "      <td>84.0</td>\n",
       "      <td>14260</td>\n",
       "      <td>8</td>\n",
       "      <td>5</td>\n",
       "      <td>2000</td>\n",
       "      <td>2000</td>\n",
       "      <td>350.0</td>\n",
       "      <td>655</td>\n",
       "      <td>0</td>\n",
       "      <td>...</td>\n",
       "      <td>False</td>\n",
       "      <td>False</td>\n",
       "      <td>False</td>\n",
       "      <td>False</td>\n",
       "      <td>True</td>\n",
       "      <td>False</td>\n",
       "      <td>False</td>\n",
       "      <td>False</td>\n",
       "      <td>True</td>\n",
       "      <td>False</td>\n",
       "    </tr>\n",
       "    <tr>\n",
       "      <th>...</th>\n",
       "      <td>...</td>\n",
       "      <td>...</td>\n",
       "      <td>...</td>\n",
       "      <td>...</td>\n",
       "      <td>...</td>\n",
       "      <td>...</td>\n",
       "      <td>...</td>\n",
       "      <td>...</td>\n",
       "      <td>...</td>\n",
       "      <td>...</td>\n",
       "      <td>...</td>\n",
       "      <td>...</td>\n",
       "      <td>...</td>\n",
       "      <td>...</td>\n",
       "      <td>...</td>\n",
       "      <td>...</td>\n",
       "      <td>...</td>\n",
       "      <td>...</td>\n",
       "      <td>...</td>\n",
       "      <td>...</td>\n",
       "      <td>...</td>\n",
       "    </tr>\n",
       "    <tr>\n",
       "      <th>1455</th>\n",
       "      <td>60</td>\n",
       "      <td>62.0</td>\n",
       "      <td>7917</td>\n",
       "      <td>6</td>\n",
       "      <td>5</td>\n",
       "      <td>1999</td>\n",
       "      <td>2000</td>\n",
       "      <td>0.0</td>\n",
       "      <td>0</td>\n",
       "      <td>0</td>\n",
       "      <td>...</td>\n",
       "      <td>False</td>\n",
       "      <td>False</td>\n",
       "      <td>False</td>\n",
       "      <td>False</td>\n",
       "      <td>True</td>\n",
       "      <td>False</td>\n",
       "      <td>False</td>\n",
       "      <td>False</td>\n",
       "      <td>True</td>\n",
       "      <td>False</td>\n",
       "    </tr>\n",
       "    <tr>\n",
       "      <th>1456</th>\n",
       "      <td>20</td>\n",
       "      <td>85.0</td>\n",
       "      <td>13175</td>\n",
       "      <td>6</td>\n",
       "      <td>6</td>\n",
       "      <td>1978</td>\n",
       "      <td>1988</td>\n",
       "      <td>119.0</td>\n",
       "      <td>790</td>\n",
       "      <td>163</td>\n",
       "      <td>...</td>\n",
       "      <td>False</td>\n",
       "      <td>False</td>\n",
       "      <td>False</td>\n",
       "      <td>False</td>\n",
       "      <td>True</td>\n",
       "      <td>False</td>\n",
       "      <td>False</td>\n",
       "      <td>False</td>\n",
       "      <td>True</td>\n",
       "      <td>False</td>\n",
       "    </tr>\n",
       "    <tr>\n",
       "      <th>1457</th>\n",
       "      <td>70</td>\n",
       "      <td>66.0</td>\n",
       "      <td>9042</td>\n",
       "      <td>7</td>\n",
       "      <td>9</td>\n",
       "      <td>1941</td>\n",
       "      <td>2006</td>\n",
       "      <td>0.0</td>\n",
       "      <td>275</td>\n",
       "      <td>0</td>\n",
       "      <td>...</td>\n",
       "      <td>False</td>\n",
       "      <td>False</td>\n",
       "      <td>False</td>\n",
       "      <td>False</td>\n",
       "      <td>True</td>\n",
       "      <td>False</td>\n",
       "      <td>False</td>\n",
       "      <td>False</td>\n",
       "      <td>True</td>\n",
       "      <td>False</td>\n",
       "    </tr>\n",
       "    <tr>\n",
       "      <th>1458</th>\n",
       "      <td>20</td>\n",
       "      <td>68.0</td>\n",
       "      <td>9717</td>\n",
       "      <td>5</td>\n",
       "      <td>6</td>\n",
       "      <td>1950</td>\n",
       "      <td>1996</td>\n",
       "      <td>0.0</td>\n",
       "      <td>49</td>\n",
       "      <td>1029</td>\n",
       "      <td>...</td>\n",
       "      <td>False</td>\n",
       "      <td>False</td>\n",
       "      <td>False</td>\n",
       "      <td>False</td>\n",
       "      <td>True</td>\n",
       "      <td>False</td>\n",
       "      <td>False</td>\n",
       "      <td>False</td>\n",
       "      <td>True</td>\n",
       "      <td>False</td>\n",
       "    </tr>\n",
       "    <tr>\n",
       "      <th>1459</th>\n",
       "      <td>20</td>\n",
       "      <td>75.0</td>\n",
       "      <td>9937</td>\n",
       "      <td>5</td>\n",
       "      <td>6</td>\n",
       "      <td>1965</td>\n",
       "      <td>1965</td>\n",
       "      <td>0.0</td>\n",
       "      <td>830</td>\n",
       "      <td>290</td>\n",
       "      <td>...</td>\n",
       "      <td>False</td>\n",
       "      <td>False</td>\n",
       "      <td>False</td>\n",
       "      <td>False</td>\n",
       "      <td>True</td>\n",
       "      <td>False</td>\n",
       "      <td>False</td>\n",
       "      <td>False</td>\n",
       "      <td>True</td>\n",
       "      <td>False</td>\n",
       "    </tr>\n",
       "  </tbody>\n",
       "</table>\n",
       "<p>1460 rows × 230 columns</p>\n",
       "</div>"
      ],
      "text/plain": [
       "      MSSubClass  LotFrontage  LotArea  OverallQual  OverallCond  YearBuilt  \\\n",
       "0             60         65.0     8450            7            5       2003   \n",
       "1             20         80.0     9600            6            8       1976   \n",
       "2             60         68.0    11250            7            5       2001   \n",
       "3             70         60.0     9550            7            5       1915   \n",
       "4             60         84.0    14260            8            5       2000   \n",
       "...          ...          ...      ...          ...          ...        ...   \n",
       "1455          60         62.0     7917            6            5       1999   \n",
       "1456          20         85.0    13175            6            6       1978   \n",
       "1457          70         66.0     9042            7            9       1941   \n",
       "1458          20         68.0     9717            5            6       1950   \n",
       "1459          20         75.0     9937            5            6       1965   \n",
       "\n",
       "      YearRemodAdd  MasVnrArea  BsmtFinSF1  BsmtFinSF2  ...  SaleType_ConLI  \\\n",
       "0             2003       196.0         706           0  ...           False   \n",
       "1             1976         0.0         978           0  ...           False   \n",
       "2             2002       162.0         486           0  ...           False   \n",
       "3             1970         0.0         216           0  ...           False   \n",
       "4             2000       350.0         655           0  ...           False   \n",
       "...            ...         ...         ...         ...  ...             ...   \n",
       "1455          2000         0.0           0           0  ...           False   \n",
       "1456          1988       119.0         790         163  ...           False   \n",
       "1457          2006         0.0         275           0  ...           False   \n",
       "1458          1996         0.0          49        1029  ...           False   \n",
       "1459          1965         0.0         830         290  ...           False   \n",
       "\n",
       "      SaleType_ConLw  SaleType_New  SaleType_Oth  SaleType_WD  \\\n",
       "0              False         False         False         True   \n",
       "1              False         False         False         True   \n",
       "2              False         False         False         True   \n",
       "3              False         False         False         True   \n",
       "4              False         False         False         True   \n",
       "...              ...           ...           ...          ...   \n",
       "1455           False         False         False         True   \n",
       "1456           False         False         False         True   \n",
       "1457           False         False         False         True   \n",
       "1458           False         False         False         True   \n",
       "1459           False         False         False         True   \n",
       "\n",
       "      SaleCondition_AdjLand  SaleCondition_Alloca  SaleCondition_Family  \\\n",
       "0                     False                 False                 False   \n",
       "1                     False                 False                 False   \n",
       "2                     False                 False                 False   \n",
       "3                     False                 False                 False   \n",
       "4                     False                 False                 False   \n",
       "...                     ...                   ...                   ...   \n",
       "1455                  False                 False                 False   \n",
       "1456                  False                 False                 False   \n",
       "1457                  False                 False                 False   \n",
       "1458                  False                 False                 False   \n",
       "1459                  False                 False                 False   \n",
       "\n",
       "      SaleCondition_Normal  SaleCondition_Partial  \n",
       "0                     True                  False  \n",
       "1                     True                  False  \n",
       "2                     True                  False  \n",
       "3                    False                  False  \n",
       "4                     True                  False  \n",
       "...                    ...                    ...  \n",
       "1455                  True                  False  \n",
       "1456                  True                  False  \n",
       "1457                  True                  False  \n",
       "1458                  True                  False  \n",
       "1459                  True                  False  \n",
       "\n",
       "[1460 rows x 230 columns]"
      ]
     },
     "execution_count": 58,
     "metadata": {},
     "output_type": "execute_result"
    }
   ],
   "source": [
    "data_encoded"
   ]
  },
  {
   "cell_type": "code",
   "execution_count": 60,
   "id": "06d28f5b",
   "metadata": {},
   "outputs": [],
   "source": [
    "num_columns = data_encoded.select_dtypes(include=['int64', 'float64'])\n",
    "\n",
    "scaler = StandardScaler()\n",
    "\n",
    "data_scaled = scaler.fit_transform(num_columns)\n",
    "\n",
    "data_encoded[num_columns.columns] = data_scaled"
   ]
  },
  {
   "cell_type": "code",
   "execution_count": 61,
   "id": "dd258b77",
   "metadata": {},
   "outputs": [
    {
     "data": {
      "text/html": [
       "<div>\n",
       "<style scoped>\n",
       "    .dataframe tbody tr th:only-of-type {\n",
       "        vertical-align: middle;\n",
       "    }\n",
       "\n",
       "    .dataframe tbody tr th {\n",
       "        vertical-align: top;\n",
       "    }\n",
       "\n",
       "    .dataframe thead th {\n",
       "        text-align: right;\n",
       "    }\n",
       "</style>\n",
       "<table border=\"1\" class=\"dataframe\">\n",
       "  <thead>\n",
       "    <tr style=\"text-align: right;\">\n",
       "      <th></th>\n",
       "      <th>MSSubClass</th>\n",
       "      <th>LotFrontage</th>\n",
       "      <th>LotArea</th>\n",
       "      <th>OverallQual</th>\n",
       "      <th>OverallCond</th>\n",
       "      <th>YearBuilt</th>\n",
       "      <th>YearRemodAdd</th>\n",
       "      <th>MasVnrArea</th>\n",
       "      <th>BsmtFinSF1</th>\n",
       "      <th>BsmtFinSF2</th>\n",
       "      <th>...</th>\n",
       "      <th>SaleType_ConLI</th>\n",
       "      <th>SaleType_ConLw</th>\n",
       "      <th>SaleType_New</th>\n",
       "      <th>SaleType_Oth</th>\n",
       "      <th>SaleType_WD</th>\n",
       "      <th>SaleCondition_AdjLand</th>\n",
       "      <th>SaleCondition_Alloca</th>\n",
       "      <th>SaleCondition_Family</th>\n",
       "      <th>SaleCondition_Normal</th>\n",
       "      <th>SaleCondition_Partial</th>\n",
       "    </tr>\n",
       "  </thead>\n",
       "  <tbody>\n",
       "    <tr>\n",
       "      <th>0</th>\n",
       "      <td>0.073375</td>\n",
       "      <td>-0.229372</td>\n",
       "      <td>-0.207142</td>\n",
       "      <td>0.651479</td>\n",
       "      <td>-0.517200</td>\n",
       "      <td>1.050994</td>\n",
       "      <td>0.878668</td>\n",
       "      <td>0.511418</td>\n",
       "      <td>0.575425</td>\n",
       "      <td>-0.288653</td>\n",
       "      <td>...</td>\n",
       "      <td>False</td>\n",
       "      <td>False</td>\n",
       "      <td>False</td>\n",
       "      <td>False</td>\n",
       "      <td>True</td>\n",
       "      <td>False</td>\n",
       "      <td>False</td>\n",
       "      <td>False</td>\n",
       "      <td>True</td>\n",
       "      <td>False</td>\n",
       "    </tr>\n",
       "    <tr>\n",
       "      <th>1</th>\n",
       "      <td>-0.872563</td>\n",
       "      <td>0.451936</td>\n",
       "      <td>-0.091886</td>\n",
       "      <td>-0.071836</td>\n",
       "      <td>2.179628</td>\n",
       "      <td>0.156734</td>\n",
       "      <td>-0.429577</td>\n",
       "      <td>-0.574410</td>\n",
       "      <td>1.171992</td>\n",
       "      <td>-0.288653</td>\n",
       "      <td>...</td>\n",
       "      <td>False</td>\n",
       "      <td>False</td>\n",
       "      <td>False</td>\n",
       "      <td>False</td>\n",
       "      <td>True</td>\n",
       "      <td>False</td>\n",
       "      <td>False</td>\n",
       "      <td>False</td>\n",
       "      <td>True</td>\n",
       "      <td>False</td>\n",
       "    </tr>\n",
       "    <tr>\n",
       "      <th>2</th>\n",
       "      <td>0.073375</td>\n",
       "      <td>-0.093110</td>\n",
       "      <td>0.073480</td>\n",
       "      <td>0.651479</td>\n",
       "      <td>-0.517200</td>\n",
       "      <td>0.984752</td>\n",
       "      <td>0.830215</td>\n",
       "      <td>0.323060</td>\n",
       "      <td>0.092907</td>\n",
       "      <td>-0.288653</td>\n",
       "      <td>...</td>\n",
       "      <td>False</td>\n",
       "      <td>False</td>\n",
       "      <td>False</td>\n",
       "      <td>False</td>\n",
       "      <td>True</td>\n",
       "      <td>False</td>\n",
       "      <td>False</td>\n",
       "      <td>False</td>\n",
       "      <td>True</td>\n",
       "      <td>False</td>\n",
       "    </tr>\n",
       "    <tr>\n",
       "      <th>3</th>\n",
       "      <td>0.309859</td>\n",
       "      <td>-0.456474</td>\n",
       "      <td>-0.096897</td>\n",
       "      <td>0.651479</td>\n",
       "      <td>-0.517200</td>\n",
       "      <td>-1.863632</td>\n",
       "      <td>-0.720298</td>\n",
       "      <td>-0.574410</td>\n",
       "      <td>-0.499274</td>\n",
       "      <td>-0.288653</td>\n",
       "      <td>...</td>\n",
       "      <td>False</td>\n",
       "      <td>False</td>\n",
       "      <td>False</td>\n",
       "      <td>False</td>\n",
       "      <td>True</td>\n",
       "      <td>False</td>\n",
       "      <td>False</td>\n",
       "      <td>False</td>\n",
       "      <td>False</td>\n",
       "      <td>False</td>\n",
       "    </tr>\n",
       "    <tr>\n",
       "      <th>4</th>\n",
       "      <td>0.073375</td>\n",
       "      <td>0.633618</td>\n",
       "      <td>0.375148</td>\n",
       "      <td>1.374795</td>\n",
       "      <td>-0.517200</td>\n",
       "      <td>0.951632</td>\n",
       "      <td>0.733308</td>\n",
       "      <td>1.364570</td>\n",
       "      <td>0.463568</td>\n",
       "      <td>-0.288653</td>\n",
       "      <td>...</td>\n",
       "      <td>False</td>\n",
       "      <td>False</td>\n",
       "      <td>False</td>\n",
       "      <td>False</td>\n",
       "      <td>True</td>\n",
       "      <td>False</td>\n",
       "      <td>False</td>\n",
       "      <td>False</td>\n",
       "      <td>True</td>\n",
       "      <td>False</td>\n",
       "    </tr>\n",
       "    <tr>\n",
       "      <th>...</th>\n",
       "      <td>...</td>\n",
       "      <td>...</td>\n",
       "      <td>...</td>\n",
       "      <td>...</td>\n",
       "      <td>...</td>\n",
       "      <td>...</td>\n",
       "      <td>...</td>\n",
       "      <td>...</td>\n",
       "      <td>...</td>\n",
       "      <td>...</td>\n",
       "      <td>...</td>\n",
       "      <td>...</td>\n",
       "      <td>...</td>\n",
       "      <td>...</td>\n",
       "      <td>...</td>\n",
       "      <td>...</td>\n",
       "      <td>...</td>\n",
       "      <td>...</td>\n",
       "      <td>...</td>\n",
       "      <td>...</td>\n",
       "      <td>...</td>\n",
       "    </tr>\n",
       "    <tr>\n",
       "      <th>1455</th>\n",
       "      <td>0.073375</td>\n",
       "      <td>-0.365633</td>\n",
       "      <td>-0.260560</td>\n",
       "      <td>-0.071836</td>\n",
       "      <td>-0.517200</td>\n",
       "      <td>0.918511</td>\n",
       "      <td>0.733308</td>\n",
       "      <td>-0.574410</td>\n",
       "      <td>-0.973018</td>\n",
       "      <td>-0.288653</td>\n",
       "      <td>...</td>\n",
       "      <td>False</td>\n",
       "      <td>False</td>\n",
       "      <td>False</td>\n",
       "      <td>False</td>\n",
       "      <td>True</td>\n",
       "      <td>False</td>\n",
       "      <td>False</td>\n",
       "      <td>False</td>\n",
       "      <td>True</td>\n",
       "      <td>False</td>\n",
       "    </tr>\n",
       "    <tr>\n",
       "      <th>1456</th>\n",
       "      <td>-0.872563</td>\n",
       "      <td>0.679039</td>\n",
       "      <td>0.266407</td>\n",
       "      <td>-0.071836</td>\n",
       "      <td>0.381743</td>\n",
       "      <td>0.222975</td>\n",
       "      <td>0.151865</td>\n",
       "      <td>0.084843</td>\n",
       "      <td>0.759659</td>\n",
       "      <td>0.722112</td>\n",
       "      <td>...</td>\n",
       "      <td>False</td>\n",
       "      <td>False</td>\n",
       "      <td>False</td>\n",
       "      <td>False</td>\n",
       "      <td>True</td>\n",
       "      <td>False</td>\n",
       "      <td>False</td>\n",
       "      <td>False</td>\n",
       "      <td>True</td>\n",
       "      <td>False</td>\n",
       "    </tr>\n",
       "    <tr>\n",
       "      <th>1457</th>\n",
       "      <td>0.309859</td>\n",
       "      <td>-0.183951</td>\n",
       "      <td>-0.147810</td>\n",
       "      <td>0.651479</td>\n",
       "      <td>3.078570</td>\n",
       "      <td>-1.002492</td>\n",
       "      <td>1.024029</td>\n",
       "      <td>-0.574410</td>\n",
       "      <td>-0.369871</td>\n",
       "      <td>-0.288653</td>\n",
       "      <td>...</td>\n",
       "      <td>False</td>\n",
       "      <td>False</td>\n",
       "      <td>False</td>\n",
       "      <td>False</td>\n",
       "      <td>True</td>\n",
       "      <td>False</td>\n",
       "      <td>False</td>\n",
       "      <td>False</td>\n",
       "      <td>True</td>\n",
       "      <td>False</td>\n",
       "    </tr>\n",
       "    <tr>\n",
       "      <th>1458</th>\n",
       "      <td>-0.872563</td>\n",
       "      <td>-0.093110</td>\n",
       "      <td>-0.080160</td>\n",
       "      <td>-0.795151</td>\n",
       "      <td>0.381743</td>\n",
       "      <td>-0.704406</td>\n",
       "      <td>0.539493</td>\n",
       "      <td>-0.574410</td>\n",
       "      <td>-0.865548</td>\n",
       "      <td>6.092188</td>\n",
       "      <td>...</td>\n",
       "      <td>False</td>\n",
       "      <td>False</td>\n",
       "      <td>False</td>\n",
       "      <td>False</td>\n",
       "      <td>True</td>\n",
       "      <td>False</td>\n",
       "      <td>False</td>\n",
       "      <td>False</td>\n",
       "      <td>True</td>\n",
       "      <td>False</td>\n",
       "    </tr>\n",
       "    <tr>\n",
       "      <th>1459</th>\n",
       "      <td>-0.872563</td>\n",
       "      <td>0.224833</td>\n",
       "      <td>-0.058112</td>\n",
       "      <td>-0.795151</td>\n",
       "      <td>0.381743</td>\n",
       "      <td>-0.207594</td>\n",
       "      <td>-0.962566</td>\n",
       "      <td>-0.574410</td>\n",
       "      <td>0.847389</td>\n",
       "      <td>1.509640</td>\n",
       "      <td>...</td>\n",
       "      <td>False</td>\n",
       "      <td>False</td>\n",
       "      <td>False</td>\n",
       "      <td>False</td>\n",
       "      <td>True</td>\n",
       "      <td>False</td>\n",
       "      <td>False</td>\n",
       "      <td>False</td>\n",
       "      <td>True</td>\n",
       "      <td>False</td>\n",
       "    </tr>\n",
       "  </tbody>\n",
       "</table>\n",
       "<p>1460 rows × 230 columns</p>\n",
       "</div>"
      ],
      "text/plain": [
       "      MSSubClass  LotFrontage   LotArea  OverallQual  OverallCond  YearBuilt  \\\n",
       "0       0.073375    -0.229372 -0.207142     0.651479    -0.517200   1.050994   \n",
       "1      -0.872563     0.451936 -0.091886    -0.071836     2.179628   0.156734   \n",
       "2       0.073375    -0.093110  0.073480     0.651479    -0.517200   0.984752   \n",
       "3       0.309859    -0.456474 -0.096897     0.651479    -0.517200  -1.863632   \n",
       "4       0.073375     0.633618  0.375148     1.374795    -0.517200   0.951632   \n",
       "...          ...          ...       ...          ...          ...        ...   \n",
       "1455    0.073375    -0.365633 -0.260560    -0.071836    -0.517200   0.918511   \n",
       "1456   -0.872563     0.679039  0.266407    -0.071836     0.381743   0.222975   \n",
       "1457    0.309859    -0.183951 -0.147810     0.651479     3.078570  -1.002492   \n",
       "1458   -0.872563    -0.093110 -0.080160    -0.795151     0.381743  -0.704406   \n",
       "1459   -0.872563     0.224833 -0.058112    -0.795151     0.381743  -0.207594   \n",
       "\n",
       "      YearRemodAdd  MasVnrArea  BsmtFinSF1  BsmtFinSF2  ...  SaleType_ConLI  \\\n",
       "0         0.878668    0.511418    0.575425   -0.288653  ...           False   \n",
       "1        -0.429577   -0.574410    1.171992   -0.288653  ...           False   \n",
       "2         0.830215    0.323060    0.092907   -0.288653  ...           False   \n",
       "3        -0.720298   -0.574410   -0.499274   -0.288653  ...           False   \n",
       "4         0.733308    1.364570    0.463568   -0.288653  ...           False   \n",
       "...            ...         ...         ...         ...  ...             ...   \n",
       "1455      0.733308   -0.574410   -0.973018   -0.288653  ...           False   \n",
       "1456      0.151865    0.084843    0.759659    0.722112  ...           False   \n",
       "1457      1.024029   -0.574410   -0.369871   -0.288653  ...           False   \n",
       "1458      0.539493   -0.574410   -0.865548    6.092188  ...           False   \n",
       "1459     -0.962566   -0.574410    0.847389    1.509640  ...           False   \n",
       "\n",
       "      SaleType_ConLw  SaleType_New  SaleType_Oth  SaleType_WD  \\\n",
       "0              False         False         False         True   \n",
       "1              False         False         False         True   \n",
       "2              False         False         False         True   \n",
       "3              False         False         False         True   \n",
       "4              False         False         False         True   \n",
       "...              ...           ...           ...          ...   \n",
       "1455           False         False         False         True   \n",
       "1456           False         False         False         True   \n",
       "1457           False         False         False         True   \n",
       "1458           False         False         False         True   \n",
       "1459           False         False         False         True   \n",
       "\n",
       "      SaleCondition_AdjLand  SaleCondition_Alloca  SaleCondition_Family  \\\n",
       "0                     False                 False                 False   \n",
       "1                     False                 False                 False   \n",
       "2                     False                 False                 False   \n",
       "3                     False                 False                 False   \n",
       "4                     False                 False                 False   \n",
       "...                     ...                   ...                   ...   \n",
       "1455                  False                 False                 False   \n",
       "1456                  False                 False                 False   \n",
       "1457                  False                 False                 False   \n",
       "1458                  False                 False                 False   \n",
       "1459                  False                 False                 False   \n",
       "\n",
       "      SaleCondition_Normal  SaleCondition_Partial  \n",
       "0                     True                  False  \n",
       "1                     True                  False  \n",
       "2                     True                  False  \n",
       "3                    False                  False  \n",
       "4                     True                  False  \n",
       "...                    ...                    ...  \n",
       "1455                  True                  False  \n",
       "1456                  True                  False  \n",
       "1457                  True                  False  \n",
       "1458                  True                  False  \n",
       "1459                  True                  False  \n",
       "\n",
       "[1460 rows x 230 columns]"
      ]
     },
     "execution_count": 61,
     "metadata": {},
     "output_type": "execute_result"
    }
   ],
   "source": [
    "data_encoded"
   ]
  },
  {
   "cell_type": "code",
   "execution_count": 62,
   "id": "680d2f2e",
   "metadata": {},
   "outputs": [],
   "source": [
    "X = data_encoded.drop('SalePrice', axis=1)\n",
    "y = data_encoded['SalePrice']\n",
    "\n",
    "X_train, X_test, y_train, y_test = train_test_split(X, y, test_size=0.2, random_state=42)"
   ]
  },
  {
   "cell_type": "code",
   "execution_count": 63,
   "id": "4527870c",
   "metadata": {},
   "outputs": [],
   "source": [
    "# 1. Linear Regression\n",
    "linear_model = LinearRegression()\n",
    "linear_model.fit(X_train, y_train)\n",
    "y_pred_linear = linear_model.predict(X_test)\n",
    "mse_linear = mean_squared_error(y_test, y_pred_linear)"
   ]
  },
  {
   "cell_type": "code",
   "execution_count": 64,
   "id": "b1fd6556",
   "metadata": {},
   "outputs": [
    {
     "name": "stdout",
     "output_type": "stream",
     "text": [
      "Mean Squared Error (Linear Regression): 2.7778480512531786e+17\n"
     ]
    }
   ],
   "source": [
    "print(\"Mean Squared Error (Linear Regression):\", mse_linear)"
   ]
  },
  {
   "cell_type": "code",
   "execution_count": 65,
   "id": "5903c461",
   "metadata": {},
   "outputs": [],
   "source": [
    "# 2. Multiple Linear Regression\n",
    "multiple_linear_model = LinearRegression()\n",
    "multiple_linear_model.fit(X_train, y_train)\n",
    "y_pred_multiple_linear = multiple_linear_model.predict(X_test)\n",
    "mse_multiple_linear = mean_squared_error(y_test, y_pred_multiple_linear)"
   ]
  },
  {
   "cell_type": "code",
   "execution_count": 66,
   "id": "59c725ac",
   "metadata": {},
   "outputs": [
    {
     "name": "stdout",
     "output_type": "stream",
     "text": [
      "Mean Squared Error (Multiple Linear Regression): 2.7778480512531786e+17\n"
     ]
    }
   ],
   "source": [
    "print(\"Mean Squared Error (Multiple Linear Regression):\", mse_multiple_linear)"
   ]
  },
  {
   "cell_type": "code",
   "execution_count": 67,
   "id": "2c489fc8",
   "metadata": {},
   "outputs": [],
   "source": [
    "# 3. Polynomial Regression\n",
    "poly_features = PolynomialFeatures(degree=2)\n",
    "X_train_poly = poly_features.fit_transform(X_train)\n",
    "X_test_poly = poly_features.transform(X_test)\n",
    "poly_model = LinearRegression()\n",
    "poly_model.fit(X_train_poly, y_train)\n",
    "y_pred_poly = poly_model.predict(X_test_poly)\n",
    "mse_poly = mean_squared_error(y_test, y_pred_poly)"
   ]
  },
  {
   "cell_type": "code",
   "execution_count": 68,
   "id": "0c80833b",
   "metadata": {},
   "outputs": [
    {
     "name": "stdout",
     "output_type": "stream",
     "text": [
      "Mean Squared Error (Polynomial Regression): 0.18083808539375143\n"
     ]
    }
   ],
   "source": [
    "print(\"Mean Squared Error (Polynomial Regression):\", mse_poly)"
   ]
  },
  {
   "cell_type": "code",
   "execution_count": 69,
   "id": "b391368c",
   "metadata": {},
   "outputs": [],
   "source": [
    "# 4. Decision Tree Regression\n",
    "decision_tree_model = DecisionTreeRegressor(random_state=42)\n",
    "decision_tree_model.fit(X_train, y_train)\n",
    "y_pred_decision_tree = decision_tree_model.predict(X_test)\n",
    "mse_decision_tree = mean_squared_error(y_test, y_pred_decision_tree)"
   ]
  },
  {
   "cell_type": "code",
   "execution_count": 70,
   "id": "f5a348a8",
   "metadata": {},
   "outputs": [
    {
     "name": "stdout",
     "output_type": "stream",
     "text": [
      "Mean Squared Error (Decision Tree Regression): 0.2758251930699741\n"
     ]
    }
   ],
   "source": [
    "print(\"Mean Squared Error (Decision Tree Regression):\", mse_decision_tree)"
   ]
  },
  {
   "cell_type": "code",
   "execution_count": 71,
   "id": "2c3f036a",
   "metadata": {},
   "outputs": [],
   "source": [
    "# 5. Random Forest Regression\n",
    "random_forest_model = RandomForestRegressor(n_estimators=100, random_state=42)\n",
    "random_forest_model.fit(X_train, y_train)\n",
    "y_pred_random_forest = random_forest_model.predict(X_test)\n",
    "mse_random_forest = mean_squared_error(y_test, y_pred_random_forest)"
   ]
  },
  {
   "cell_type": "code",
   "execution_count": 72,
   "id": "429dd87d",
   "metadata": {},
   "outputs": [
    {
     "name": "stdout",
     "output_type": "stream",
     "text": [
      "Mean Squared Error (Random Forest Regression): 0.1293596202398942\n"
     ]
    }
   ],
   "source": [
    "print(\"Mean Squared Error (Random Forest Regression):\", mse_random_forest)"
   ]
  },
  {
   "cell_type": "markdown",
   "id": "efd04e23",
   "metadata": {},
   "source": [
    "### Finding the importance of each of the features and visualizing them"
   ]
  },
  {
   "cell_type": "code",
   "execution_count": 73,
   "id": "76c41596",
   "metadata": {},
   "outputs": [],
   "source": [
    "feature_importances = random_forest_model.feature_importances_\n",
    "\n",
    "feature_importance_df = pd.DataFrame({'Feature': X_train.columns, 'Importance': feature_importances})\n",
    "\n",
    "feature_importance_df = feature_importance_df.sort_values(by='Importance', ascending=False)"
   ]
  },
  {
   "cell_type": "code",
   "execution_count": 87,
   "id": "8d100baf",
   "metadata": {},
   "outputs": [
    {
     "data": {
      "application/vnd.plotly.v1+json": {
       "config": {
        "plotlyServerURL": "https://plot.ly"
       },
       "data": [
        {
         "alignmentgroup": "True",
         "hovertemplate": "Importance=%{x}<br>Feature=%{y}<extra></extra>",
         "legendgroup": "",
         "marker": {
          "color": "#636efa",
          "pattern": {
           "shape": ""
          }
         },
         "name": "",
         "offsetgroup": "",
         "orientation": "h",
         "showlegend": false,
         "textposition": "auto",
         "type": "bar",
         "x": [
          0.557336853499829,
          0.12158849453432523,
          0.03516463752011143,
          0.0348847704221862,
          0.030436209059175965,
          0.025950097298609993,
          0.017566437017602316,
          0.016454815840928894,
          0.01246082223233842,
          0.011611492004819887,
          0.009469259336389986,
          0.007055903907889359,
          0.007039867267274014,
          0.006717399521173268,
          0.006388675516033425,
          0.005997810791618164,
          0.005991802968420919,
          0.005287424129776433,
          0.004829058679644192,
          0.004638175553063627,
          0.004122204822794554,
          0.004015489734564803,
          0.003987133475962709,
          0.003668976964502748,
          0.0036258475299982863,
          0.0032946419007525815,
          0.003075967344701583,
          0.0025014966123935237,
          0.0018769446812547598,
          0.0017440140334147663,
          0.0016504182823115709,
          0.001581486961436366,
          0.0015661791207223447,
          0.0013608016661972877,
          0.001291889460613835,
          0.001289768941328658,
          0.001045051348022256,
          0.000992870480093962,
          0.0009732305816831367,
          0.0008251162167141187,
          0.0008176742605583964,
          0.0008154327709773912,
          0.0008049727303255327,
          0.0007770890246157977,
          0.0007138025357238043,
          0.0007123821217554309,
          0.000666103723823999,
          0.0006554997583286276,
          0.0006476251659826487,
          0.0005930058431327353,
          0.000592032653974417,
          0.000589847180342959,
          0.0005809111806070491,
          0.0005672165101984519,
          0.0005609873713026267,
          0.0005575843693354478,
          0.000520186240463388,
          0.0005070991403288585,
          0.0005027000134474972,
          0.0005022236848824371,
          0.0004786629898715184,
          0.0004456486283939878,
          0.00043948730004888284,
          0.00041411919302547425,
          0.000396256813537638,
          0.0003906896917055138,
          0.00038229727691834516,
          0.0003805526677015749,
          0.0003752822145756039,
          0.00035661023746557774,
          0.0003487037726714821,
          0.0003401701697503187,
          0.000339766311211849,
          0.00032840281761785053,
          0.0003177044025966672,
          0.00030293620486702614,
          0.000293110741788227,
          0.0002876666433022353,
          0.00028485093270186226,
          0.000284369151791992,
          0.0002650503915010688,
          0.000263612795890317,
          0.0002503664934555065,
          0.0002489771509543127,
          0.00024175297426143262,
          0.00023383308008282185,
          0.00021579518856588878,
          0.00021433357271518998,
          0.0002119068523618554,
          0.00020595778430866507,
          0.00020266581849393093,
          0.00019541446465375082,
          0.00019489458173886252,
          0.00018159678078323016,
          0.0001804299012428513,
          0.00016826544365669012,
          0.00016365809996394807,
          0.0001616402867138347,
          0.0001508189521091322,
          0.00015070749073361716,
          0.00014806154655059464,
          0.00014560956011486312,
          0.00014410807088854167,
          0.00014096381552658558,
          0.00013897257571947796,
          0.0001272029872533026,
          0.00012075325794247744,
          0.0001202439930855125,
          0.00012020754004798825,
          0.00011251249347001535,
          0.00011215860851318714,
          0.00011099961238127747,
          0.00011075326710591731,
          0.00011012268966387664,
          0.00010888486591587303,
          0.00010525195576071832,
          0.00010484001429361431,
          0.00008332567772655457,
          0.00008250643740277903,
          0.00008247154443244009,
          0.00007408971818009622,
          0.00007180908703175442,
          0.00007028824163109767,
          0.00006937456006399097,
          0.0000689883861379957,
          0.00006096360193804654,
          0.000060659393957154886,
          0.000060642040568408184,
          0.00005711512696740312,
          0.00005678457298666761,
          0.000055971070068233574,
          0.00005585951580608082,
          0.00005544127099578436,
          0.00005401643821208107,
          0.000053101565542498817,
          0.00005261009624965619,
          0.00005194850607732444,
          0.00004671647148602989,
          0.000046304994952704734,
          0.00004616050251936518,
          0.00004295463397837897,
          0.00004012293289526039,
          0.00003972144772961125,
          0.0000389631557687777,
          0.0000376797578389644,
          0.00003687040148410026,
          0.00003663667203846234,
          0.000034389172459121655,
          0.0000343645726856695,
          0.0000339284823643427,
          0.000032877695164895704,
          0.000032802572266934776,
          0.000032792789921937716,
          0.000032096696201948,
          0.0000315543387865249,
          0.00003141501868355743,
          0.00003055300379200867,
          0.000029213761965774855,
          0.00002895875055557446,
          0.00002743565172747636,
          0.000027103326492870925,
          0.000024963545238592077,
          0.000023812576513716694,
          0.000022154749320869068,
          0.00002069574441417632,
          0.000016532549285000463,
          0.000016516249819629504,
          0.000016212156008110144,
          0.00001613034623607598,
          0.00001590063994874005,
          0.000014390857626536165,
          0.000013483911735646958,
          0.00001328764973469363,
          0.000013208695655348596,
          0.000012904903283730707,
          0.000012008033833310176,
          0.000011747383547829545,
          0.000010856145365413638,
          0.000010841579801698205,
          0.000010817459916431197,
          0.000010500677522045861,
          0.000010206984650736924,
          0.000009507410305088178,
          0.00000907632862593533,
          0.000008790703396029985,
          0.000008301303555791495,
          0.000007936264209323162,
          0.000006735027371502443,
          0.000006393895698385094,
          0.000006336641845823728,
          0.000006052229690647469,
          0.000005807410972253309,
          0.0000055584457744511385,
          0.000005355500554692331,
          0.000005345765444328707,
          0.000005192570645793048,
          0.000004848196016265626,
          0.000004609320268845445,
          0.000003912648341392612,
          0.0000037922967295027466,
          0.000003054539733971415,
          0.0000030466592439294214,
          0.0000026950327538570103,
          0.0000024779552908613652,
          0.00000226250788388418,
          0.0000022119684546385115,
          0.0000020144394715416804,
          0.000001569575363611374,
          0.0000012587349557136653,
          0.0000011941558509767966,
          9.493981905773458e-7,
          6.078812764211387e-7,
          4.204272402459466e-7,
          3.1593349165557773e-7,
          2.809380381222458e-7,
          2.215439500969518e-7,
          1.8417176911004408e-7,
          1.549523115002066e-7,
          1.0991264850473097e-7,
          1.0167968871876127e-7,
          2.4364875622432133e-8,
          4.2317943215356175e-9,
          2.951907411026219e-9,
          9.284272971477703e-10,
          0,
          0,
          0,
          0,
          0
         ],
         "xaxis": "x",
         "y": [
          "OverallQual",
          "GrLivArea",
          "2ndFlrSF",
          "TotalBsmtSF",
          "BsmtFinSF1",
          "1stFlrSF",
          "LotArea",
          "GarageArea",
          "GarageCars",
          "YearBuilt",
          "LotFrontage",
          "YearRemodAdd",
          "TotRmsAbvGrd",
          "GarageFinish_Unf",
          "OpenPorchSF",
          "FullBath",
          "GarageYrBlt",
          "BsmtUnfSF",
          "WoodDeckSF",
          "BsmtQual_Gd",
          "MasVnrArea",
          "KitchenQual_Gd",
          "CentralAir_Y",
          "MoSold",
          "OverallCond",
          "ScreenPorch",
          "Fireplaces",
          "MSSubClass",
          "LotShape_Reg",
          "GarageType_Detchd",
          "BedroomAbvGr",
          "BsmtExposure_Gd",
          "ExterQual_Gd",
          "YrSold",
          "KitchenQual_TA",
          "BsmtExposure_No",
          "SaleType_New",
          "MSZoning_RM",
          "GarageType_Attchd",
          "LotConfig_CulDSac",
          "BsmtQual_TA",
          "HalfBath",
          "ExterQual_TA",
          "BsmtFullBath",
          "Exterior2nd_ImStucc",
          "RoofMatl_CompShg",
          "LotConfig_Inside",
          "SaleCondition_Normal",
          "KitchenAbvGr",
          "Neighborhood_Crawfor",
          "LandContour_Lvl",
          "RoofStyle_Gable",
          "EnclosedPorch",
          "BsmtFinSF2",
          "MSZoning_RL",
          "GarageFinish_RFn",
          "Condition1_Norm",
          "BsmtFinType1_GLQ",
          "PoolArea",
          "SaleCondition_Partial",
          "Functional_Typ",
          "Neighborhood_Edwards",
          "HeatingQC_TA",
          "SaleType_WD",
          "RoofStyle_Hip",
          "Exterior2nd_MetalSd",
          "Neighborhood_OldTown",
          "BsmtFinType2_Unf",
          "HouseStyle_2Story",
          "Neighborhood_NAmes",
          "Neighborhood_CollgCr",
          "Condition2_Norm",
          "Neighborhood_Timber",
          "Neighborhood_NoRidge",
          "Exterior2nd_VinylSd",
          "Neighborhood_NridgHt",
          "Exterior1st_VinylSd",
          "Exterior1st_MetalSd",
          "SaleCondition_Family",
          "Foundation_PConc",
          "3SsnPorch",
          "ExterCond_TA",
          "LandContour_HLS",
          "BsmtFinType1_Unf",
          "HeatingQC_Gd",
          "HeatingQC_Fa",
          "PavedDrive_Y",
          "Exterior2nd_Plywood",
          "Exterior1st_BrkFace",
          "Foundation_CBlock",
          "Exterior1st_Wd Sdng",
          "HouseStyle_1Story",
          "Neighborhood_Somerst",
          "LandSlope_Mod",
          "Exterior2nd_CmentBd",
          "BsmtCond_TA",
          "Exterior1st_Plywood",
          "GarageType_BuiltIn",
          "Neighborhood_StoneBr",
          "Exterior2nd_Wd Sdng",
          "BsmtHalfBath",
          "ExterCond_Gd",
          "Exterior2nd_HdBoard",
          "LotShape_IR2",
          "BsmtFinType1_Rec",
          "BsmtExposure_Mn",
          "Neighborhood_Gilbert",
          "BsmtFinType1_LwQ",
          "Neighborhood_ClearCr",
          "Electrical_SBrkr",
          "Exterior1st_HdBoard",
          "BsmtFinType1_BLQ",
          "KitchenQual_Fa",
          "Condition1_Feedr",
          "GarageQual_TA",
          "GarageType_CarPort",
          "Neighborhood_SWISU",
          "Neighborhood_BrkSide",
          "Exterior1st_CemntBd",
          "Neighborhood_Sawyer",
          "Condition1_PosN",
          "HouseStyle_SLvl",
          "MSZoning_FV",
          "BsmtQual_Fa",
          "Exterior2nd_Wd Shng",
          "PavedDrive_P",
          "BldgType_TwnhsE",
          "MiscVal",
          "RoofStyle_Gambrel",
          "BsmtCond_Gd",
          "LotConfig_FR2",
          "GarageQual_Fa",
          "Functional_Mod",
          "Exterior2nd_Stucco",
          "BsmtFinType2_Rec",
          "SaleType_CWD",
          "Condition1_RRAe",
          "BsmtFinType2_BLQ",
          "Neighborhood_NWAmes",
          "ExterCond_Fa",
          "LandContour_Low",
          "Neighborhood_IDOTRR",
          "Exterior2nd_BrkFace",
          "RoofMatl_Tar&Grv",
          "LandSlope_Sev",
          "GarageQual_Gd",
          "BldgType_2fmCon",
          "Condition1_RRNn",
          "Exterior2nd_Brk Cmn",
          "Electrical_FuseF",
          "Functional_Sev",
          "Functional_Min2",
          "Functional_Min1",
          "SaleCondition_Alloca",
          "Neighborhood_SawyerW",
          "BldgType_Duplex",
          "ExterQual_Fa",
          "LowQualFinSF",
          "BsmtFinType2_LwQ",
          "MSZoning_RH",
          "Condition1_PosA",
          "LotConfig_FR3",
          "HouseStyle_2.5Fin",
          "Heating_GasA",
          "Functional_Maj2",
          "Exterior1st_Stucco",
          "RoofMatl_WdShngl",
          "Neighborhood_Mitchel",
          "GarageCond_TA",
          "GarageType_Basment",
          "Neighborhood_Veenker",
          "Foundation_Slab",
          "HouseStyle_2.5Unf",
          "Exterior2nd_Stone",
          "Electrical_FuseP",
          "Exterior2nd_Other",
          "Heating_OthW",
          "SaleType_ConLD",
          "GarageCond_Fa",
          "Exterior1st_WdShing",
          "HouseStyle_SFoyer",
          "Street_Pave",
          "Foundation_Wood",
          "RoofMatl_WdShake",
          "Condition1_RRAn",
          "Foundation_Stone",
          "RoofStyle_Shed",
          "Heating_Grav",
          "SaleType_ConLI",
          "SaleType_ConLw",
          "Neighborhood_Blueste",
          "BldgType_Twnhs",
          "LotShape_IR3",
          "Neighborhood_NPkVill",
          "Neighborhood_MeadowV",
          "Exterior1st_Stone",
          "HouseStyle_1.5Unf",
          "Exterior2nd_AsphShn",
          "BsmtFinType2_GLQ",
          "Exterior1st_BrkComm",
          "Condition2_Feedr",
          "SaleCondition_AdjLand",
          "Heating_GasW",
          "GarageCond_Gd",
          "Condition2_PosN",
          "RoofMatl_Metal",
          "Neighborhood_BrDale",
          "GarageQual_Po",
          "Condition2_PosA",
          "Heating_Wall",
          "GarageCond_Po",
          "Condition1_RRNe",
          "Exterior1st_AsphShn",
          "RoofStyle_Mansard",
          "Exterior1st_CBlock",
          "Utilities_NoSeWa",
          "SaleType_Con",
          "BsmtCond_Po",
          "Exterior1st_ImStucc",
          "SaleType_Oth",
          "Exterior2nd_CBlock",
          "Condition2_RRAn",
          "Condition2_RRNn",
          "RoofMatl_Roll",
          "ExterCond_Po",
          "RoofMatl_Membran",
          "Condition2_RRAe",
          "HeatingQC_Po",
          "Electrical_Mix"
         ],
         "yaxis": "y"
        }
       ],
       "layout": {
        "barmode": "relative",
        "height": 600,
        "legend": {
         "tracegroupgap": 0
        },
        "template": {
         "data": {
          "bar": [
           {
            "error_x": {
             "color": "#2a3f5f"
            },
            "error_y": {
             "color": "#2a3f5f"
            },
            "marker": {
             "line": {
              "color": "#E5ECF6",
              "width": 0.5
             },
             "pattern": {
              "fillmode": "overlay",
              "size": 10,
              "solidity": 0.2
             }
            },
            "type": "bar"
           }
          ],
          "barpolar": [
           {
            "marker": {
             "line": {
              "color": "#E5ECF6",
              "width": 0.5
             },
             "pattern": {
              "fillmode": "overlay",
              "size": 10,
              "solidity": 0.2
             }
            },
            "type": "barpolar"
           }
          ],
          "carpet": [
           {
            "aaxis": {
             "endlinecolor": "#2a3f5f",
             "gridcolor": "white",
             "linecolor": "white",
             "minorgridcolor": "white",
             "startlinecolor": "#2a3f5f"
            },
            "baxis": {
             "endlinecolor": "#2a3f5f",
             "gridcolor": "white",
             "linecolor": "white",
             "minorgridcolor": "white",
             "startlinecolor": "#2a3f5f"
            },
            "type": "carpet"
           }
          ],
          "choropleth": [
           {
            "colorbar": {
             "outlinewidth": 0,
             "ticks": ""
            },
            "type": "choropleth"
           }
          ],
          "contour": [
           {
            "colorbar": {
             "outlinewidth": 0,
             "ticks": ""
            },
            "colorscale": [
             [
              0,
              "#0d0887"
             ],
             [
              0.1111111111111111,
              "#46039f"
             ],
             [
              0.2222222222222222,
              "#7201a8"
             ],
             [
              0.3333333333333333,
              "#9c179e"
             ],
             [
              0.4444444444444444,
              "#bd3786"
             ],
             [
              0.5555555555555556,
              "#d8576b"
             ],
             [
              0.6666666666666666,
              "#ed7953"
             ],
             [
              0.7777777777777778,
              "#fb9f3a"
             ],
             [
              0.8888888888888888,
              "#fdca26"
             ],
             [
              1,
              "#f0f921"
             ]
            ],
            "type": "contour"
           }
          ],
          "contourcarpet": [
           {
            "colorbar": {
             "outlinewidth": 0,
             "ticks": ""
            },
            "type": "contourcarpet"
           }
          ],
          "heatmap": [
           {
            "colorbar": {
             "outlinewidth": 0,
             "ticks": ""
            },
            "colorscale": [
             [
              0,
              "#0d0887"
             ],
             [
              0.1111111111111111,
              "#46039f"
             ],
             [
              0.2222222222222222,
              "#7201a8"
             ],
             [
              0.3333333333333333,
              "#9c179e"
             ],
             [
              0.4444444444444444,
              "#bd3786"
             ],
             [
              0.5555555555555556,
              "#d8576b"
             ],
             [
              0.6666666666666666,
              "#ed7953"
             ],
             [
              0.7777777777777778,
              "#fb9f3a"
             ],
             [
              0.8888888888888888,
              "#fdca26"
             ],
             [
              1,
              "#f0f921"
             ]
            ],
            "type": "heatmap"
           }
          ],
          "heatmapgl": [
           {
            "colorbar": {
             "outlinewidth": 0,
             "ticks": ""
            },
            "colorscale": [
             [
              0,
              "#0d0887"
             ],
             [
              0.1111111111111111,
              "#46039f"
             ],
             [
              0.2222222222222222,
              "#7201a8"
             ],
             [
              0.3333333333333333,
              "#9c179e"
             ],
             [
              0.4444444444444444,
              "#bd3786"
             ],
             [
              0.5555555555555556,
              "#d8576b"
             ],
             [
              0.6666666666666666,
              "#ed7953"
             ],
             [
              0.7777777777777778,
              "#fb9f3a"
             ],
             [
              0.8888888888888888,
              "#fdca26"
             ],
             [
              1,
              "#f0f921"
             ]
            ],
            "type": "heatmapgl"
           }
          ],
          "histogram": [
           {
            "marker": {
             "pattern": {
              "fillmode": "overlay",
              "size": 10,
              "solidity": 0.2
             }
            },
            "type": "histogram"
           }
          ],
          "histogram2d": [
           {
            "colorbar": {
             "outlinewidth": 0,
             "ticks": ""
            },
            "colorscale": [
             [
              0,
              "#0d0887"
             ],
             [
              0.1111111111111111,
              "#46039f"
             ],
             [
              0.2222222222222222,
              "#7201a8"
             ],
             [
              0.3333333333333333,
              "#9c179e"
             ],
             [
              0.4444444444444444,
              "#bd3786"
             ],
             [
              0.5555555555555556,
              "#d8576b"
             ],
             [
              0.6666666666666666,
              "#ed7953"
             ],
             [
              0.7777777777777778,
              "#fb9f3a"
             ],
             [
              0.8888888888888888,
              "#fdca26"
             ],
             [
              1,
              "#f0f921"
             ]
            ],
            "type": "histogram2d"
           }
          ],
          "histogram2dcontour": [
           {
            "colorbar": {
             "outlinewidth": 0,
             "ticks": ""
            },
            "colorscale": [
             [
              0,
              "#0d0887"
             ],
             [
              0.1111111111111111,
              "#46039f"
             ],
             [
              0.2222222222222222,
              "#7201a8"
             ],
             [
              0.3333333333333333,
              "#9c179e"
             ],
             [
              0.4444444444444444,
              "#bd3786"
             ],
             [
              0.5555555555555556,
              "#d8576b"
             ],
             [
              0.6666666666666666,
              "#ed7953"
             ],
             [
              0.7777777777777778,
              "#fb9f3a"
             ],
             [
              0.8888888888888888,
              "#fdca26"
             ],
             [
              1,
              "#f0f921"
             ]
            ],
            "type": "histogram2dcontour"
           }
          ],
          "mesh3d": [
           {
            "colorbar": {
             "outlinewidth": 0,
             "ticks": ""
            },
            "type": "mesh3d"
           }
          ],
          "parcoords": [
           {
            "line": {
             "colorbar": {
              "outlinewidth": 0,
              "ticks": ""
             }
            },
            "type": "parcoords"
           }
          ],
          "pie": [
           {
            "automargin": true,
            "type": "pie"
           }
          ],
          "scatter": [
           {
            "fillpattern": {
             "fillmode": "overlay",
             "size": 10,
             "solidity": 0.2
            },
            "type": "scatter"
           }
          ],
          "scatter3d": [
           {
            "line": {
             "colorbar": {
              "outlinewidth": 0,
              "ticks": ""
             }
            },
            "marker": {
             "colorbar": {
              "outlinewidth": 0,
              "ticks": ""
             }
            },
            "type": "scatter3d"
           }
          ],
          "scattercarpet": [
           {
            "marker": {
             "colorbar": {
              "outlinewidth": 0,
              "ticks": ""
             }
            },
            "type": "scattercarpet"
           }
          ],
          "scattergeo": [
           {
            "marker": {
             "colorbar": {
              "outlinewidth": 0,
              "ticks": ""
             }
            },
            "type": "scattergeo"
           }
          ],
          "scattergl": [
           {
            "marker": {
             "colorbar": {
              "outlinewidth": 0,
              "ticks": ""
             }
            },
            "type": "scattergl"
           }
          ],
          "scattermapbox": [
           {
            "marker": {
             "colorbar": {
              "outlinewidth": 0,
              "ticks": ""
             }
            },
            "type": "scattermapbox"
           }
          ],
          "scatterpolar": [
           {
            "marker": {
             "colorbar": {
              "outlinewidth": 0,
              "ticks": ""
             }
            },
            "type": "scatterpolar"
           }
          ],
          "scatterpolargl": [
           {
            "marker": {
             "colorbar": {
              "outlinewidth": 0,
              "ticks": ""
             }
            },
            "type": "scatterpolargl"
           }
          ],
          "scatterternary": [
           {
            "marker": {
             "colorbar": {
              "outlinewidth": 0,
              "ticks": ""
             }
            },
            "type": "scatterternary"
           }
          ],
          "surface": [
           {
            "colorbar": {
             "outlinewidth": 0,
             "ticks": ""
            },
            "colorscale": [
             [
              0,
              "#0d0887"
             ],
             [
              0.1111111111111111,
              "#46039f"
             ],
             [
              0.2222222222222222,
              "#7201a8"
             ],
             [
              0.3333333333333333,
              "#9c179e"
             ],
             [
              0.4444444444444444,
              "#bd3786"
             ],
             [
              0.5555555555555556,
              "#d8576b"
             ],
             [
              0.6666666666666666,
              "#ed7953"
             ],
             [
              0.7777777777777778,
              "#fb9f3a"
             ],
             [
              0.8888888888888888,
              "#fdca26"
             ],
             [
              1,
              "#f0f921"
             ]
            ],
            "type": "surface"
           }
          ],
          "table": [
           {
            "cells": {
             "fill": {
              "color": "#EBF0F8"
             },
             "line": {
              "color": "white"
             }
            },
            "header": {
             "fill": {
              "color": "#C8D4E3"
             },
             "line": {
              "color": "white"
             }
            },
            "type": "table"
           }
          ]
         },
         "layout": {
          "annotationdefaults": {
           "arrowcolor": "#2a3f5f",
           "arrowhead": 0,
           "arrowwidth": 1
          },
          "autotypenumbers": "strict",
          "coloraxis": {
           "colorbar": {
            "outlinewidth": 0,
            "ticks": ""
           }
          },
          "colorscale": {
           "diverging": [
            [
             0,
             "#8e0152"
            ],
            [
             0.1,
             "#c51b7d"
            ],
            [
             0.2,
             "#de77ae"
            ],
            [
             0.3,
             "#f1b6da"
            ],
            [
             0.4,
             "#fde0ef"
            ],
            [
             0.5,
             "#f7f7f7"
            ],
            [
             0.6,
             "#e6f5d0"
            ],
            [
             0.7,
             "#b8e186"
            ],
            [
             0.8,
             "#7fbc41"
            ],
            [
             0.9,
             "#4d9221"
            ],
            [
             1,
             "#276419"
            ]
           ],
           "sequential": [
            [
             0,
             "#0d0887"
            ],
            [
             0.1111111111111111,
             "#46039f"
            ],
            [
             0.2222222222222222,
             "#7201a8"
            ],
            [
             0.3333333333333333,
             "#9c179e"
            ],
            [
             0.4444444444444444,
             "#bd3786"
            ],
            [
             0.5555555555555556,
             "#d8576b"
            ],
            [
             0.6666666666666666,
             "#ed7953"
            ],
            [
             0.7777777777777778,
             "#fb9f3a"
            ],
            [
             0.8888888888888888,
             "#fdca26"
            ],
            [
             1,
             "#f0f921"
            ]
           ],
           "sequentialminus": [
            [
             0,
             "#0d0887"
            ],
            [
             0.1111111111111111,
             "#46039f"
            ],
            [
             0.2222222222222222,
             "#7201a8"
            ],
            [
             0.3333333333333333,
             "#9c179e"
            ],
            [
             0.4444444444444444,
             "#bd3786"
            ],
            [
             0.5555555555555556,
             "#d8576b"
            ],
            [
             0.6666666666666666,
             "#ed7953"
            ],
            [
             0.7777777777777778,
             "#fb9f3a"
            ],
            [
             0.8888888888888888,
             "#fdca26"
            ],
            [
             1,
             "#f0f921"
            ]
           ]
          },
          "colorway": [
           "#636efa",
           "#EF553B",
           "#00cc96",
           "#ab63fa",
           "#FFA15A",
           "#19d3f3",
           "#FF6692",
           "#B6E880",
           "#FF97FF",
           "#FECB52"
          ],
          "font": {
           "color": "#2a3f5f"
          },
          "geo": {
           "bgcolor": "white",
           "lakecolor": "white",
           "landcolor": "#E5ECF6",
           "showlakes": true,
           "showland": true,
           "subunitcolor": "white"
          },
          "hoverlabel": {
           "align": "left"
          },
          "hovermode": "closest",
          "mapbox": {
           "style": "light"
          },
          "paper_bgcolor": "white",
          "plot_bgcolor": "#E5ECF6",
          "polar": {
           "angularaxis": {
            "gridcolor": "white",
            "linecolor": "white",
            "ticks": ""
           },
           "bgcolor": "#E5ECF6",
           "radialaxis": {
            "gridcolor": "white",
            "linecolor": "white",
            "ticks": ""
           }
          },
          "scene": {
           "xaxis": {
            "backgroundcolor": "#E5ECF6",
            "gridcolor": "white",
            "gridwidth": 2,
            "linecolor": "white",
            "showbackground": true,
            "ticks": "",
            "zerolinecolor": "white"
           },
           "yaxis": {
            "backgroundcolor": "#E5ECF6",
            "gridcolor": "white",
            "gridwidth": 2,
            "linecolor": "white",
            "showbackground": true,
            "ticks": "",
            "zerolinecolor": "white"
           },
           "zaxis": {
            "backgroundcolor": "#E5ECF6",
            "gridcolor": "white",
            "gridwidth": 2,
            "linecolor": "white",
            "showbackground": true,
            "ticks": "",
            "zerolinecolor": "white"
           }
          },
          "shapedefaults": {
           "line": {
            "color": "#2a3f5f"
           }
          },
          "ternary": {
           "aaxis": {
            "gridcolor": "white",
            "linecolor": "white",
            "ticks": ""
           },
           "baxis": {
            "gridcolor": "white",
            "linecolor": "white",
            "ticks": ""
           },
           "bgcolor": "#E5ECF6",
           "caxis": {
            "gridcolor": "white",
            "linecolor": "white",
            "ticks": ""
           }
          },
          "title": {
           "x": 0.05
          },
          "xaxis": {
           "automargin": true,
           "gridcolor": "white",
           "linecolor": "white",
           "ticks": "",
           "title": {
            "standoff": 15
           },
           "zerolinecolor": "white",
           "zerolinewidth": 2
          },
          "yaxis": {
           "automargin": true,
           "gridcolor": "white",
           "linecolor": "white",
           "ticks": "",
           "title": {
            "standoff": 15
           },
           "zerolinecolor": "white",
           "zerolinewidth": 2
          }
         }
        },
        "title": {
         "text": "Feature Importances"
        },
        "width": 1000,
        "xaxis": {
         "anchor": "y",
         "domain": [
          0,
          1
         ],
         "title": {
          "text": "Importance"
         }
        },
        "yaxis": {
         "anchor": "x",
         "categoryorder": "total ascending",
         "domain": [
          0,
          1
         ],
         "title": {
          "text": "Feature"
         }
        }
       }
      },
      "text/html": [
       "<div>                            <div id=\"069dbbc8-7d22-4c93-9c2c-c549105a800e\" class=\"plotly-graph-div\" style=\"height:600px; width:1000px;\"></div>            <script type=\"text/javascript\">                require([\"plotly\"], function(Plotly) {                    window.PLOTLYENV=window.PLOTLYENV || {};                                    if (document.getElementById(\"069dbbc8-7d22-4c93-9c2c-c549105a800e\")) {                    Plotly.newPlot(                        \"069dbbc8-7d22-4c93-9c2c-c549105a800e\",                        [{\"alignmentgroup\":\"True\",\"hovertemplate\":\"Importance=%{x}\\u003cbr\\u003eFeature=%{y}\\u003cextra\\u003e\\u003c\\u002fextra\\u003e\",\"legendgroup\":\"\",\"marker\":{\"color\":\"#636efa\",\"pattern\":{\"shape\":\"\"}},\"name\":\"\",\"offsetgroup\":\"\",\"orientation\":\"h\",\"showlegend\":false,\"textposition\":\"auto\",\"x\":[0.557336853499829,0.12158849453432523,0.03516463752011143,0.0348847704221862,0.030436209059175965,0.025950097298609993,0.017566437017602316,0.016454815840928894,0.01246082223233842,0.011611492004819887,0.009469259336389986,0.007055903907889359,0.007039867267274014,0.006717399521173268,0.006388675516033425,0.005997810791618164,0.005991802968420919,0.005287424129776433,0.004829058679644192,0.004638175553063627,0.004122204822794554,0.004015489734564803,0.003987133475962709,0.003668976964502748,0.0036258475299982863,0.0032946419007525815,0.003075967344701583,0.0025014966123935237,0.0018769446812547598,0.0017440140334147663,0.0016504182823115709,0.001581486961436366,0.0015661791207223447,0.0013608016661972877,0.001291889460613835,0.001289768941328658,0.001045051348022256,0.000992870480093962,0.0009732305816831367,0.0008251162167141187,0.0008176742605583964,0.0008154327709773912,0.0008049727303255327,0.0007770890246157977,0.0007138025357238043,0.0007123821217554309,0.000666103723823999,0.0006554997583286276,0.0006476251659826487,0.0005930058431327353,0.000592032653974417,0.000589847180342959,0.0005809111806070491,0.0005672165101984519,0.0005609873713026267,0.0005575843693354478,0.000520186240463388,0.0005070991403288585,0.0005027000134474972,0.0005022236848824371,0.0004786629898715184,0.0004456486283939878,0.00043948730004888284,0.00041411919302547425,0.000396256813537638,0.0003906896917055138,0.00038229727691834516,0.0003805526677015749,0.0003752822145756039,0.00035661023746557774,0.0003487037726714821,0.0003401701697503187,0.000339766311211849,0.00032840281761785053,0.0003177044025966672,0.00030293620486702614,0.000293110741788227,0.0002876666433022353,0.00028485093270186226,0.000284369151791992,0.0002650503915010688,0.000263612795890317,0.0002503664934555065,0.0002489771509543127,0.00024175297426143262,0.00023383308008282185,0.00021579518856588878,0.00021433357271518998,0.0002119068523618554,0.00020595778430866507,0.00020266581849393093,0.00019541446465375082,0.00019489458173886252,0.00018159678078323016,0.0001804299012428513,0.00016826544365669012,0.00016365809996394807,0.0001616402867138347,0.0001508189521091322,0.00015070749073361716,0.00014806154655059464,0.00014560956011486312,0.00014410807088854167,0.00014096381552658558,0.00013897257571947796,0.0001272029872533026,0.00012075325794247744,0.0001202439930855125,0.00012020754004798825,0.00011251249347001535,0.00011215860851318714,0.00011099961238127747,0.00011075326710591731,0.00011012268966387664,0.00010888486591587303,0.00010525195576071832,0.00010484001429361431,8.332567772655457e-05,8.250643740277903e-05,8.247154443244009e-05,7.408971818009622e-05,7.180908703175442e-05,7.028824163109767e-05,6.937456006399097e-05,6.89883861379957e-05,6.096360193804654e-05,6.0659393957154886e-05,6.0642040568408184e-05,5.711512696740312e-05,5.678457298666761e-05,5.5971070068233574e-05,5.585951580608082e-05,5.544127099578436e-05,5.401643821208107e-05,5.3101565542498817e-05,5.261009624965619e-05,5.194850607732444e-05,4.671647148602989e-05,4.6304994952704734e-05,4.616050251936518e-05,4.295463397837897e-05,4.012293289526039e-05,3.972144772961125e-05,3.89631557687777e-05,3.76797578389644e-05,3.687040148410026e-05,3.663667203846234e-05,3.4389172459121655e-05,3.43645726856695e-05,3.39284823643427e-05,3.2877695164895704e-05,3.2802572266934776e-05,3.2792789921937716e-05,3.2096696201948e-05,3.15543387865249e-05,3.141501868355743e-05,3.055300379200867e-05,2.9213761965774855e-05,2.895875055557446e-05,2.743565172747636e-05,2.7103326492870925e-05,2.4963545238592077e-05,2.3812576513716694e-05,2.2154749320869068e-05,2.069574441417632e-05,1.6532549285000463e-05,1.6516249819629504e-05,1.6212156008110144e-05,1.613034623607598e-05,1.590063994874005e-05,1.4390857626536165e-05,1.3483911735646958e-05,1.328764973469363e-05,1.3208695655348596e-05,1.2904903283730707e-05,1.2008033833310176e-05,1.1747383547829545e-05,1.0856145365413638e-05,1.0841579801698205e-05,1.0817459916431197e-05,1.0500677522045861e-05,1.0206984650736924e-05,9.507410305088178e-06,9.07632862593533e-06,8.790703396029985e-06,8.301303555791495e-06,7.936264209323162e-06,6.735027371502443e-06,6.393895698385094e-06,6.336641845823728e-06,6.052229690647469e-06,5.807410972253309e-06,5.5584457744511385e-06,5.355500554692331e-06,5.345765444328707e-06,5.192570645793048e-06,4.848196016265626e-06,4.609320268845445e-06,3.912648341392612e-06,3.7922967295027466e-06,3.054539733971415e-06,3.0466592439294214e-06,2.6950327538570103e-06,2.4779552908613652e-06,2.26250788388418e-06,2.2119684546385115e-06,2.0144394715416804e-06,1.569575363611374e-06,1.2587349557136653e-06,1.1941558509767966e-06,9.493981905773458e-07,6.078812764211387e-07,4.204272402459466e-07,3.1593349165557773e-07,2.809380381222458e-07,2.215439500969518e-07,1.8417176911004408e-07,1.549523115002066e-07,1.0991264850473097e-07,1.0167968871876127e-07,2.4364875622432133e-08,4.2317943215356175e-09,2.951907411026219e-09,9.284272971477703e-10,0.0,0.0,0.0,0.0,0.0],\"xaxis\":\"x\",\"y\":[\"OverallQual\",\"GrLivArea\",\"2ndFlrSF\",\"TotalBsmtSF\",\"BsmtFinSF1\",\"1stFlrSF\",\"LotArea\",\"GarageArea\",\"GarageCars\",\"YearBuilt\",\"LotFrontage\",\"YearRemodAdd\",\"TotRmsAbvGrd\",\"GarageFinish_Unf\",\"OpenPorchSF\",\"FullBath\",\"GarageYrBlt\",\"BsmtUnfSF\",\"WoodDeckSF\",\"BsmtQual_Gd\",\"MasVnrArea\",\"KitchenQual_Gd\",\"CentralAir_Y\",\"MoSold\",\"OverallCond\",\"ScreenPorch\",\"Fireplaces\",\"MSSubClass\",\"LotShape_Reg\",\"GarageType_Detchd\",\"BedroomAbvGr\",\"BsmtExposure_Gd\",\"ExterQual_Gd\",\"YrSold\",\"KitchenQual_TA\",\"BsmtExposure_No\",\"SaleType_New\",\"MSZoning_RM\",\"GarageType_Attchd\",\"LotConfig_CulDSac\",\"BsmtQual_TA\",\"HalfBath\",\"ExterQual_TA\",\"BsmtFullBath\",\"Exterior2nd_ImStucc\",\"RoofMatl_CompShg\",\"LotConfig_Inside\",\"SaleCondition_Normal\",\"KitchenAbvGr\",\"Neighborhood_Crawfor\",\"LandContour_Lvl\",\"RoofStyle_Gable\",\"EnclosedPorch\",\"BsmtFinSF2\",\"MSZoning_RL\",\"GarageFinish_RFn\",\"Condition1_Norm\",\"BsmtFinType1_GLQ\",\"PoolArea\",\"SaleCondition_Partial\",\"Functional_Typ\",\"Neighborhood_Edwards\",\"HeatingQC_TA\",\"SaleType_WD\",\"RoofStyle_Hip\",\"Exterior2nd_MetalSd\",\"Neighborhood_OldTown\",\"BsmtFinType2_Unf\",\"HouseStyle_2Story\",\"Neighborhood_NAmes\",\"Neighborhood_CollgCr\",\"Condition2_Norm\",\"Neighborhood_Timber\",\"Neighborhood_NoRidge\",\"Exterior2nd_VinylSd\",\"Neighborhood_NridgHt\",\"Exterior1st_VinylSd\",\"Exterior1st_MetalSd\",\"SaleCondition_Family\",\"Foundation_PConc\",\"3SsnPorch\",\"ExterCond_TA\",\"LandContour_HLS\",\"BsmtFinType1_Unf\",\"HeatingQC_Gd\",\"HeatingQC_Fa\",\"PavedDrive_Y\",\"Exterior2nd_Plywood\",\"Exterior1st_BrkFace\",\"Foundation_CBlock\",\"Exterior1st_Wd Sdng\",\"HouseStyle_1Story\",\"Neighborhood_Somerst\",\"LandSlope_Mod\",\"Exterior2nd_CmentBd\",\"BsmtCond_TA\",\"Exterior1st_Plywood\",\"GarageType_BuiltIn\",\"Neighborhood_StoneBr\",\"Exterior2nd_Wd Sdng\",\"BsmtHalfBath\",\"ExterCond_Gd\",\"Exterior2nd_HdBoard\",\"LotShape_IR2\",\"BsmtFinType1_Rec\",\"BsmtExposure_Mn\",\"Neighborhood_Gilbert\",\"BsmtFinType1_LwQ\",\"Neighborhood_ClearCr\",\"Electrical_SBrkr\",\"Exterior1st_HdBoard\",\"BsmtFinType1_BLQ\",\"KitchenQual_Fa\",\"Condition1_Feedr\",\"GarageQual_TA\",\"GarageType_CarPort\",\"Neighborhood_SWISU\",\"Neighborhood_BrkSide\",\"Exterior1st_CemntBd\",\"Neighborhood_Sawyer\",\"Condition1_PosN\",\"HouseStyle_SLvl\",\"MSZoning_FV\",\"BsmtQual_Fa\",\"Exterior2nd_Wd Shng\",\"PavedDrive_P\",\"BldgType_TwnhsE\",\"MiscVal\",\"RoofStyle_Gambrel\",\"BsmtCond_Gd\",\"LotConfig_FR2\",\"GarageQual_Fa\",\"Functional_Mod\",\"Exterior2nd_Stucco\",\"BsmtFinType2_Rec\",\"SaleType_CWD\",\"Condition1_RRAe\",\"BsmtFinType2_BLQ\",\"Neighborhood_NWAmes\",\"ExterCond_Fa\",\"LandContour_Low\",\"Neighborhood_IDOTRR\",\"Exterior2nd_BrkFace\",\"RoofMatl_Tar&Grv\",\"LandSlope_Sev\",\"GarageQual_Gd\",\"BldgType_2fmCon\",\"Condition1_RRNn\",\"Exterior2nd_Brk Cmn\",\"Electrical_FuseF\",\"Functional_Sev\",\"Functional_Min2\",\"Functional_Min1\",\"SaleCondition_Alloca\",\"Neighborhood_SawyerW\",\"BldgType_Duplex\",\"ExterQual_Fa\",\"LowQualFinSF\",\"BsmtFinType2_LwQ\",\"MSZoning_RH\",\"Condition1_PosA\",\"LotConfig_FR3\",\"HouseStyle_2.5Fin\",\"Heating_GasA\",\"Functional_Maj2\",\"Exterior1st_Stucco\",\"RoofMatl_WdShngl\",\"Neighborhood_Mitchel\",\"GarageCond_TA\",\"GarageType_Basment\",\"Neighborhood_Veenker\",\"Foundation_Slab\",\"HouseStyle_2.5Unf\",\"Exterior2nd_Stone\",\"Electrical_FuseP\",\"Exterior2nd_Other\",\"Heating_OthW\",\"SaleType_ConLD\",\"GarageCond_Fa\",\"Exterior1st_WdShing\",\"HouseStyle_SFoyer\",\"Street_Pave\",\"Foundation_Wood\",\"RoofMatl_WdShake\",\"Condition1_RRAn\",\"Foundation_Stone\",\"RoofStyle_Shed\",\"Heating_Grav\",\"SaleType_ConLI\",\"SaleType_ConLw\",\"Neighborhood_Blueste\",\"BldgType_Twnhs\",\"LotShape_IR3\",\"Neighborhood_NPkVill\",\"Neighborhood_MeadowV\",\"Exterior1st_Stone\",\"HouseStyle_1.5Unf\",\"Exterior2nd_AsphShn\",\"BsmtFinType2_GLQ\",\"Exterior1st_BrkComm\",\"Condition2_Feedr\",\"SaleCondition_AdjLand\",\"Heating_GasW\",\"GarageCond_Gd\",\"Condition2_PosN\",\"RoofMatl_Metal\",\"Neighborhood_BrDale\",\"GarageQual_Po\",\"Condition2_PosA\",\"Heating_Wall\",\"GarageCond_Po\",\"Condition1_RRNe\",\"Exterior1st_AsphShn\",\"RoofStyle_Mansard\",\"Exterior1st_CBlock\",\"Utilities_NoSeWa\",\"SaleType_Con\",\"BsmtCond_Po\",\"Exterior1st_ImStucc\",\"SaleType_Oth\",\"Exterior2nd_CBlock\",\"Condition2_RRAn\",\"Condition2_RRNn\",\"RoofMatl_Roll\",\"ExterCond_Po\",\"RoofMatl_Membran\",\"Condition2_RRAe\",\"HeatingQC_Po\",\"Electrical_Mix\"],\"yaxis\":\"y\",\"type\":\"bar\"}],                        {\"template\":{\"data\":{\"histogram2dcontour\":[{\"type\":\"histogram2dcontour\",\"colorbar\":{\"outlinewidth\":0,\"ticks\":\"\"},\"colorscale\":[[0.0,\"#0d0887\"],[0.1111111111111111,\"#46039f\"],[0.2222222222222222,\"#7201a8\"],[0.3333333333333333,\"#9c179e\"],[0.4444444444444444,\"#bd3786\"],[0.5555555555555556,\"#d8576b\"],[0.6666666666666666,\"#ed7953\"],[0.7777777777777778,\"#fb9f3a\"],[0.8888888888888888,\"#fdca26\"],[1.0,\"#f0f921\"]]}],\"choropleth\":[{\"type\":\"choropleth\",\"colorbar\":{\"outlinewidth\":0,\"ticks\":\"\"}}],\"histogram2d\":[{\"type\":\"histogram2d\",\"colorbar\":{\"outlinewidth\":0,\"ticks\":\"\"},\"colorscale\":[[0.0,\"#0d0887\"],[0.1111111111111111,\"#46039f\"],[0.2222222222222222,\"#7201a8\"],[0.3333333333333333,\"#9c179e\"],[0.4444444444444444,\"#bd3786\"],[0.5555555555555556,\"#d8576b\"],[0.6666666666666666,\"#ed7953\"],[0.7777777777777778,\"#fb9f3a\"],[0.8888888888888888,\"#fdca26\"],[1.0,\"#f0f921\"]]}],\"heatmap\":[{\"type\":\"heatmap\",\"colorbar\":{\"outlinewidth\":0,\"ticks\":\"\"},\"colorscale\":[[0.0,\"#0d0887\"],[0.1111111111111111,\"#46039f\"],[0.2222222222222222,\"#7201a8\"],[0.3333333333333333,\"#9c179e\"],[0.4444444444444444,\"#bd3786\"],[0.5555555555555556,\"#d8576b\"],[0.6666666666666666,\"#ed7953\"],[0.7777777777777778,\"#fb9f3a\"],[0.8888888888888888,\"#fdca26\"],[1.0,\"#f0f921\"]]}],\"heatmapgl\":[{\"type\":\"heatmapgl\",\"colorbar\":{\"outlinewidth\":0,\"ticks\":\"\"},\"colorscale\":[[0.0,\"#0d0887\"],[0.1111111111111111,\"#46039f\"],[0.2222222222222222,\"#7201a8\"],[0.3333333333333333,\"#9c179e\"],[0.4444444444444444,\"#bd3786\"],[0.5555555555555556,\"#d8576b\"],[0.6666666666666666,\"#ed7953\"],[0.7777777777777778,\"#fb9f3a\"],[0.8888888888888888,\"#fdca26\"],[1.0,\"#f0f921\"]]}],\"contourcarpet\":[{\"type\":\"contourcarpet\",\"colorbar\":{\"outlinewidth\":0,\"ticks\":\"\"}}],\"contour\":[{\"type\":\"contour\",\"colorbar\":{\"outlinewidth\":0,\"ticks\":\"\"},\"colorscale\":[[0.0,\"#0d0887\"],[0.1111111111111111,\"#46039f\"],[0.2222222222222222,\"#7201a8\"],[0.3333333333333333,\"#9c179e\"],[0.4444444444444444,\"#bd3786\"],[0.5555555555555556,\"#d8576b\"],[0.6666666666666666,\"#ed7953\"],[0.7777777777777778,\"#fb9f3a\"],[0.8888888888888888,\"#fdca26\"],[1.0,\"#f0f921\"]]}],\"surface\":[{\"type\":\"surface\",\"colorbar\":{\"outlinewidth\":0,\"ticks\":\"\"},\"colorscale\":[[0.0,\"#0d0887\"],[0.1111111111111111,\"#46039f\"],[0.2222222222222222,\"#7201a8\"],[0.3333333333333333,\"#9c179e\"],[0.4444444444444444,\"#bd3786\"],[0.5555555555555556,\"#d8576b\"],[0.6666666666666666,\"#ed7953\"],[0.7777777777777778,\"#fb9f3a\"],[0.8888888888888888,\"#fdca26\"],[1.0,\"#f0f921\"]]}],\"mesh3d\":[{\"type\":\"mesh3d\",\"colorbar\":{\"outlinewidth\":0,\"ticks\":\"\"}}],\"scatter\":[{\"fillpattern\":{\"fillmode\":\"overlay\",\"size\":10,\"solidity\":0.2},\"type\":\"scatter\"}],\"parcoords\":[{\"type\":\"parcoords\",\"line\":{\"colorbar\":{\"outlinewidth\":0,\"ticks\":\"\"}}}],\"scatterpolargl\":[{\"type\":\"scatterpolargl\",\"marker\":{\"colorbar\":{\"outlinewidth\":0,\"ticks\":\"\"}}}],\"bar\":[{\"error_x\":{\"color\":\"#2a3f5f\"},\"error_y\":{\"color\":\"#2a3f5f\"},\"marker\":{\"line\":{\"color\":\"#E5ECF6\",\"width\":0.5},\"pattern\":{\"fillmode\":\"overlay\",\"size\":10,\"solidity\":0.2}},\"type\":\"bar\"}],\"scattergeo\":[{\"type\":\"scattergeo\",\"marker\":{\"colorbar\":{\"outlinewidth\":0,\"ticks\":\"\"}}}],\"scatterpolar\":[{\"type\":\"scatterpolar\",\"marker\":{\"colorbar\":{\"outlinewidth\":0,\"ticks\":\"\"}}}],\"histogram\":[{\"marker\":{\"pattern\":{\"fillmode\":\"overlay\",\"size\":10,\"solidity\":0.2}},\"type\":\"histogram\"}],\"scattergl\":[{\"type\":\"scattergl\",\"marker\":{\"colorbar\":{\"outlinewidth\":0,\"ticks\":\"\"}}}],\"scatter3d\":[{\"type\":\"scatter3d\",\"line\":{\"colorbar\":{\"outlinewidth\":0,\"ticks\":\"\"}},\"marker\":{\"colorbar\":{\"outlinewidth\":0,\"ticks\":\"\"}}}],\"scattermapbox\":[{\"type\":\"scattermapbox\",\"marker\":{\"colorbar\":{\"outlinewidth\":0,\"ticks\":\"\"}}}],\"scatterternary\":[{\"type\":\"scatterternary\",\"marker\":{\"colorbar\":{\"outlinewidth\":0,\"ticks\":\"\"}}}],\"scattercarpet\":[{\"type\":\"scattercarpet\",\"marker\":{\"colorbar\":{\"outlinewidth\":0,\"ticks\":\"\"}}}],\"carpet\":[{\"aaxis\":{\"endlinecolor\":\"#2a3f5f\",\"gridcolor\":\"white\",\"linecolor\":\"white\",\"minorgridcolor\":\"white\",\"startlinecolor\":\"#2a3f5f\"},\"baxis\":{\"endlinecolor\":\"#2a3f5f\",\"gridcolor\":\"white\",\"linecolor\":\"white\",\"minorgridcolor\":\"white\",\"startlinecolor\":\"#2a3f5f\"},\"type\":\"carpet\"}],\"table\":[{\"cells\":{\"fill\":{\"color\":\"#EBF0F8\"},\"line\":{\"color\":\"white\"}},\"header\":{\"fill\":{\"color\":\"#C8D4E3\"},\"line\":{\"color\":\"white\"}},\"type\":\"table\"}],\"barpolar\":[{\"marker\":{\"line\":{\"color\":\"#E5ECF6\",\"width\":0.5},\"pattern\":{\"fillmode\":\"overlay\",\"size\":10,\"solidity\":0.2}},\"type\":\"barpolar\"}],\"pie\":[{\"automargin\":true,\"type\":\"pie\"}]},\"layout\":{\"autotypenumbers\":\"strict\",\"colorway\":[\"#636efa\",\"#EF553B\",\"#00cc96\",\"#ab63fa\",\"#FFA15A\",\"#19d3f3\",\"#FF6692\",\"#B6E880\",\"#FF97FF\",\"#FECB52\"],\"font\":{\"color\":\"#2a3f5f\"},\"hovermode\":\"closest\",\"hoverlabel\":{\"align\":\"left\"},\"paper_bgcolor\":\"white\",\"plot_bgcolor\":\"#E5ECF6\",\"polar\":{\"bgcolor\":\"#E5ECF6\",\"angularaxis\":{\"gridcolor\":\"white\",\"linecolor\":\"white\",\"ticks\":\"\"},\"radialaxis\":{\"gridcolor\":\"white\",\"linecolor\":\"white\",\"ticks\":\"\"}},\"ternary\":{\"bgcolor\":\"#E5ECF6\",\"aaxis\":{\"gridcolor\":\"white\",\"linecolor\":\"white\",\"ticks\":\"\"},\"baxis\":{\"gridcolor\":\"white\",\"linecolor\":\"white\",\"ticks\":\"\"},\"caxis\":{\"gridcolor\":\"white\",\"linecolor\":\"white\",\"ticks\":\"\"}},\"coloraxis\":{\"colorbar\":{\"outlinewidth\":0,\"ticks\":\"\"}},\"colorscale\":{\"sequential\":[[0.0,\"#0d0887\"],[0.1111111111111111,\"#46039f\"],[0.2222222222222222,\"#7201a8\"],[0.3333333333333333,\"#9c179e\"],[0.4444444444444444,\"#bd3786\"],[0.5555555555555556,\"#d8576b\"],[0.6666666666666666,\"#ed7953\"],[0.7777777777777778,\"#fb9f3a\"],[0.8888888888888888,\"#fdca26\"],[1.0,\"#f0f921\"]],\"sequentialminus\":[[0.0,\"#0d0887\"],[0.1111111111111111,\"#46039f\"],[0.2222222222222222,\"#7201a8\"],[0.3333333333333333,\"#9c179e\"],[0.4444444444444444,\"#bd3786\"],[0.5555555555555556,\"#d8576b\"],[0.6666666666666666,\"#ed7953\"],[0.7777777777777778,\"#fb9f3a\"],[0.8888888888888888,\"#fdca26\"],[1.0,\"#f0f921\"]],\"diverging\":[[0,\"#8e0152\"],[0.1,\"#c51b7d\"],[0.2,\"#de77ae\"],[0.3,\"#f1b6da\"],[0.4,\"#fde0ef\"],[0.5,\"#f7f7f7\"],[0.6,\"#e6f5d0\"],[0.7,\"#b8e186\"],[0.8,\"#7fbc41\"],[0.9,\"#4d9221\"],[1,\"#276419\"]]},\"xaxis\":{\"gridcolor\":\"white\",\"linecolor\":\"white\",\"ticks\":\"\",\"title\":{\"standoff\":15},\"zerolinecolor\":\"white\",\"automargin\":true,\"zerolinewidth\":2},\"yaxis\":{\"gridcolor\":\"white\",\"linecolor\":\"white\",\"ticks\":\"\",\"title\":{\"standoff\":15},\"zerolinecolor\":\"white\",\"automargin\":true,\"zerolinewidth\":2},\"scene\":{\"xaxis\":{\"backgroundcolor\":\"#E5ECF6\",\"gridcolor\":\"white\",\"linecolor\":\"white\",\"showbackground\":true,\"ticks\":\"\",\"zerolinecolor\":\"white\",\"gridwidth\":2},\"yaxis\":{\"backgroundcolor\":\"#E5ECF6\",\"gridcolor\":\"white\",\"linecolor\":\"white\",\"showbackground\":true,\"ticks\":\"\",\"zerolinecolor\":\"white\",\"gridwidth\":2},\"zaxis\":{\"backgroundcolor\":\"#E5ECF6\",\"gridcolor\":\"white\",\"linecolor\":\"white\",\"showbackground\":true,\"ticks\":\"\",\"zerolinecolor\":\"white\",\"gridwidth\":2}},\"shapedefaults\":{\"line\":{\"color\":\"#2a3f5f\"}},\"annotationdefaults\":{\"arrowcolor\":\"#2a3f5f\",\"arrowhead\":0,\"arrowwidth\":1},\"geo\":{\"bgcolor\":\"white\",\"landcolor\":\"#E5ECF6\",\"subunitcolor\":\"white\",\"showland\":true,\"showlakes\":true,\"lakecolor\":\"white\"},\"title\":{\"x\":0.05},\"mapbox\":{\"style\":\"light\"}}},\"xaxis\":{\"anchor\":\"y\",\"domain\":[0.0,1.0],\"title\":{\"text\":\"Importance\"}},\"yaxis\":{\"anchor\":\"x\",\"domain\":[0.0,1.0],\"title\":{\"text\":\"Feature\"},\"categoryorder\":\"total ascending\"},\"legend\":{\"tracegroupgap\":0},\"title\":{\"text\":\"Feature Importances\"},\"barmode\":\"relative\",\"width\":1000,\"height\":600},                        {\"responsive\": true}                    ).then(function(){\n",
       "                            \n",
       "var gd = document.getElementById('069dbbc8-7d22-4c93-9c2c-c549105a800e');\n",
       "var x = new MutationObserver(function (mutations, observer) {{\n",
       "        var display = window.getComputedStyle(gd).display;\n",
       "        if (!display || display === 'none') {{\n",
       "            console.log([gd, 'removed!']);\n",
       "            Plotly.purge(gd);\n",
       "            observer.disconnect();\n",
       "        }}\n",
       "}});\n",
       "\n",
       "// Listen for the removal of the full notebook cells\n",
       "var notebookContainer = gd.closest('#notebook-container');\n",
       "if (notebookContainer) {{\n",
       "    x.observe(notebookContainer, {childList: true});\n",
       "}}\n",
       "\n",
       "// Listen for the clearing of the current output cell\n",
       "var outputEl = gd.closest('.output');\n",
       "if (outputEl) {{\n",
       "    x.observe(outputEl, {childList: true});\n",
       "}}\n",
       "\n",
       "                        })                };                });            </script>        </div>"
      ]
     },
     "metadata": {},
     "output_type": "display_data"
    }
   ],
   "source": [
    "fig = px.bar(\n",
    "    feature_importance_df, \n",
    "    x='Importance', \n",
    "    y='Feature', \n",
    "    orientation='h',\n",
    "    title='Feature Importances'\n",
    ")\n",
    "\n",
    "fig.update_layout(\n",
    "    xaxis_title='Importance',\n",
    "    yaxis_title='Feature',\n",
    "    yaxis_categoryorder='total ascending',\n",
    "    width=1000,\n",
    "    height=600\n",
    ")\n",
    "\n",
    "fig.show()\n"
   ]
  },
  {
   "cell_type": "code",
   "execution_count": 122,
   "id": "1e805ba9",
   "metadata": {},
   "outputs": [
    {
     "name": "stdout",
     "output_type": "stream",
     "text": [
      "Mean Squared Error (New Random Forest Model): 0.12807867503419\n"
     ]
    }
   ],
   "source": [
    "k = 14\n",
    "selected_features = feature_importance_df['Feature'][:k]\n",
    "\n",
    "X_train_selected = X_train[selected_features]\n",
    "X_test_selected = X_test[selected_features]\n",
    "\n",
    "new_rf_model = RandomForestRegressor(n_estimators=100, random_state=42)\n",
    "new_rf_model.fit(X_train_selected, y_train)\n",
    "\n",
    "y_pred_new_rf = new_rf_model.predict(X_test_selected)\n",
    "\n",
    "mse_new_rf = mean_squared_error(y_test, y_pred_new_rf)\n",
    "print(\"Mean Squared Error (New Random Forest Model):\", mse_new_rf)"
   ]
  },
  {
   "cell_type": "code",
   "execution_count": 123,
   "id": "f68903bb",
   "metadata": {},
   "outputs": [
    {
     "name": "stdout",
     "output_type": "stream",
     "text": [
      "Mean Squared Error (Original Random Forest Model): 0.1293596202398942\n",
      "Mean Squared Error (New Random Forest Model with Selected Features): 0.12807867503419\n"
     ]
    }
   ],
   "source": [
    "print(\"Mean Squared Error (Original Random Forest Model):\", mse_random_forest)\n",
    "print(\"Mean Squared Error (New Random Forest Model with Selected Features):\", mse_new_rf)"
   ]
  }
 ],
 "metadata": {
  "kernelspec": {
   "display_name": "Python 3 (ipykernel)",
   "language": "python",
   "name": "python3"
  },
  "language_info": {
   "codemirror_mode": {
    "name": "ipython",
    "version": 3
   },
   "file_extension": ".py",
   "mimetype": "text/x-python",
   "name": "python",
   "nbconvert_exporter": "python",
   "pygments_lexer": "ipython3",
   "version": "3.11.4"
  }
 },
 "nbformat": 4,
 "nbformat_minor": 5
}
