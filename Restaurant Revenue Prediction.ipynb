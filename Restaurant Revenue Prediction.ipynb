{
 "cells": [
  {
   "cell_type": "markdown",
   "id": "5e3bb972",
   "metadata": {},
   "source": [
    "# Author: Swaroop Srisailam"
   ]
  },
  {
   "cell_type": "markdown",
   "id": "42b91a30",
   "metadata": {},
   "source": [
    "## Importing Dependencies"
   ]
  },
  {
   "cell_type": "code",
   "execution_count": 42,
   "id": "3385b764",
   "metadata": {},
   "outputs": [],
   "source": [
    "import pandas as pd \n",
    "import numpy as np \n",
    "import matplotlib.pyplot as plt\n",
    "import seaborn as sns\n",
    "from sklearn import preprocessing\n",
    "from sklearn.linear_model import LinearRegression\n",
    "from sklearn.tree import DecisionTreeRegressor\n",
    "from sklearn.ensemble import RandomForestRegressor\n",
    "from sklearn.preprocessing import PolynomialFeatures\n",
    "from sklearn.metrics import mean_squared_error"
   ]
  },
  {
   "cell_type": "markdown",
   "id": "7b536841",
   "metadata": {},
   "source": [
    "## Reading Data"
   ]
  },
  {
   "cell_type": "code",
   "execution_count": 37,
   "id": "6b1acf4b",
   "metadata": {},
   "outputs": [],
   "source": [
    "train=pd.read_csv(\"./train.csv\")\n",
    "test=pd.read_csv(\"./test.csv\")"
   ]
  },
  {
   "cell_type": "code",
   "execution_count": 38,
   "id": "8eb2859d",
   "metadata": {
    "scrolled": true
   },
   "outputs": [
    {
     "data": {
      "text/html": [
       "<div>\n",
       "<style scoped>\n",
       "    .dataframe tbody tr th:only-of-type {\n",
       "        vertical-align: middle;\n",
       "    }\n",
       "\n",
       "    .dataframe tbody tr th {\n",
       "        vertical-align: top;\n",
       "    }\n",
       "\n",
       "    .dataframe thead th {\n",
       "        text-align: right;\n",
       "    }\n",
       "</style>\n",
       "<table border=\"1\" class=\"dataframe\">\n",
       "  <thead>\n",
       "    <tr style=\"text-align: right;\">\n",
       "      <th></th>\n",
       "      <th>Id</th>\n",
       "      <th>Open Date</th>\n",
       "      <th>City</th>\n",
       "      <th>City Group</th>\n",
       "      <th>Type</th>\n",
       "      <th>P1</th>\n",
       "      <th>P2</th>\n",
       "      <th>P3</th>\n",
       "      <th>P4</th>\n",
       "      <th>P5</th>\n",
       "      <th>...</th>\n",
       "      <th>P29</th>\n",
       "      <th>P30</th>\n",
       "      <th>P31</th>\n",
       "      <th>P32</th>\n",
       "      <th>P33</th>\n",
       "      <th>P34</th>\n",
       "      <th>P35</th>\n",
       "      <th>P36</th>\n",
       "      <th>P37</th>\n",
       "      <th>revenue</th>\n",
       "    </tr>\n",
       "  </thead>\n",
       "  <tbody>\n",
       "    <tr>\n",
       "      <th>0</th>\n",
       "      <td>0</td>\n",
       "      <td>07/17/1999</td>\n",
       "      <td>İstanbul</td>\n",
       "      <td>Big Cities</td>\n",
       "      <td>IL</td>\n",
       "      <td>4</td>\n",
       "      <td>5.0</td>\n",
       "      <td>4.0</td>\n",
       "      <td>4.0</td>\n",
       "      <td>2</td>\n",
       "      <td>...</td>\n",
       "      <td>3.0</td>\n",
       "      <td>5</td>\n",
       "      <td>3</td>\n",
       "      <td>4</td>\n",
       "      <td>5</td>\n",
       "      <td>5</td>\n",
       "      <td>4</td>\n",
       "      <td>3</td>\n",
       "      <td>4</td>\n",
       "      <td>5653753.0</td>\n",
       "    </tr>\n",
       "    <tr>\n",
       "      <th>1</th>\n",
       "      <td>1</td>\n",
       "      <td>02/14/2008</td>\n",
       "      <td>Ankara</td>\n",
       "      <td>Big Cities</td>\n",
       "      <td>FC</td>\n",
       "      <td>4</td>\n",
       "      <td>5.0</td>\n",
       "      <td>4.0</td>\n",
       "      <td>4.0</td>\n",
       "      <td>1</td>\n",
       "      <td>...</td>\n",
       "      <td>3.0</td>\n",
       "      <td>0</td>\n",
       "      <td>0</td>\n",
       "      <td>0</td>\n",
       "      <td>0</td>\n",
       "      <td>0</td>\n",
       "      <td>0</td>\n",
       "      <td>0</td>\n",
       "      <td>0</td>\n",
       "      <td>6923131.0</td>\n",
       "    </tr>\n",
       "    <tr>\n",
       "      <th>2</th>\n",
       "      <td>2</td>\n",
       "      <td>03/09/2013</td>\n",
       "      <td>Diyarbakır</td>\n",
       "      <td>Other</td>\n",
       "      <td>IL</td>\n",
       "      <td>2</td>\n",
       "      <td>4.0</td>\n",
       "      <td>2.0</td>\n",
       "      <td>5.0</td>\n",
       "      <td>2</td>\n",
       "      <td>...</td>\n",
       "      <td>3.0</td>\n",
       "      <td>0</td>\n",
       "      <td>0</td>\n",
       "      <td>0</td>\n",
       "      <td>0</td>\n",
       "      <td>0</td>\n",
       "      <td>0</td>\n",
       "      <td>0</td>\n",
       "      <td>0</td>\n",
       "      <td>2055379.0</td>\n",
       "    </tr>\n",
       "    <tr>\n",
       "      <th>3</th>\n",
       "      <td>3</td>\n",
       "      <td>02/02/2012</td>\n",
       "      <td>Tokat</td>\n",
       "      <td>Other</td>\n",
       "      <td>IL</td>\n",
       "      <td>6</td>\n",
       "      <td>4.5</td>\n",
       "      <td>6.0</td>\n",
       "      <td>6.0</td>\n",
       "      <td>4</td>\n",
       "      <td>...</td>\n",
       "      <td>7.5</td>\n",
       "      <td>25</td>\n",
       "      <td>12</td>\n",
       "      <td>10</td>\n",
       "      <td>6</td>\n",
       "      <td>18</td>\n",
       "      <td>12</td>\n",
       "      <td>12</td>\n",
       "      <td>6</td>\n",
       "      <td>2675511.0</td>\n",
       "    </tr>\n",
       "    <tr>\n",
       "      <th>4</th>\n",
       "      <td>4</td>\n",
       "      <td>05/09/2009</td>\n",
       "      <td>Gaziantep</td>\n",
       "      <td>Other</td>\n",
       "      <td>IL</td>\n",
       "      <td>3</td>\n",
       "      <td>4.0</td>\n",
       "      <td>3.0</td>\n",
       "      <td>4.0</td>\n",
       "      <td>2</td>\n",
       "      <td>...</td>\n",
       "      <td>3.0</td>\n",
       "      <td>5</td>\n",
       "      <td>1</td>\n",
       "      <td>3</td>\n",
       "      <td>2</td>\n",
       "      <td>3</td>\n",
       "      <td>4</td>\n",
       "      <td>3</td>\n",
       "      <td>3</td>\n",
       "      <td>4316715.0</td>\n",
       "    </tr>\n",
       "  </tbody>\n",
       "</table>\n",
       "<p>5 rows × 43 columns</p>\n",
       "</div>"
      ],
      "text/plain": [
       "   Id   Open Date        City  City Group Type  P1   P2   P3   P4  P5  ...  \\\n",
       "0   0  07/17/1999    İstanbul  Big Cities   IL   4  5.0  4.0  4.0   2  ...   \n",
       "1   1  02/14/2008      Ankara  Big Cities   FC   4  5.0  4.0  4.0   1  ...   \n",
       "2   2  03/09/2013  Diyarbakır       Other   IL   2  4.0  2.0  5.0   2  ...   \n",
       "3   3  02/02/2012       Tokat       Other   IL   6  4.5  6.0  6.0   4  ...   \n",
       "4   4  05/09/2009   Gaziantep       Other   IL   3  4.0  3.0  4.0   2  ...   \n",
       "\n",
       "   P29  P30  P31  P32  P33  P34  P35  P36  P37    revenue  \n",
       "0  3.0    5    3    4    5    5    4    3    4  5653753.0  \n",
       "1  3.0    0    0    0    0    0    0    0    0  6923131.0  \n",
       "2  3.0    0    0    0    0    0    0    0    0  2055379.0  \n",
       "3  7.5   25   12   10    6   18   12   12    6  2675511.0  \n",
       "4  3.0    5    1    3    2    3    4    3    3  4316715.0  \n",
       "\n",
       "[5 rows x 43 columns]"
      ]
     },
     "execution_count": 38,
     "metadata": {},
     "output_type": "execute_result"
    }
   ],
   "source": [
    "train.head()"
   ]
  },
  {
   "cell_type": "code",
   "execution_count": 39,
   "id": "5f96ffd8",
   "metadata": {},
   "outputs": [
    {
     "name": "stdout",
     "output_type": "stream",
     "text": [
      "<class 'pandas.core.frame.DataFrame'>\n",
      "RangeIndex: 137 entries, 0 to 136\n",
      "Data columns (total 43 columns):\n",
      " #   Column      Non-Null Count  Dtype  \n",
      "---  ------      --------------  -----  \n",
      " 0   Id          137 non-null    int64  \n",
      " 1   Open Date   137 non-null    object \n",
      " 2   City        137 non-null    object \n",
      " 3   City Group  137 non-null    object \n",
      " 4   Type        137 non-null    object \n",
      " 5   P1          137 non-null    int64  \n",
      " 6   P2          137 non-null    float64\n",
      " 7   P3          137 non-null    float64\n",
      " 8   P4          137 non-null    float64\n",
      " 9   P5          137 non-null    int64  \n",
      " 10  P6          137 non-null    int64  \n",
      " 11  P7          137 non-null    int64  \n",
      " 12  P8          137 non-null    int64  \n",
      " 13  P9          137 non-null    int64  \n",
      " 14  P10         137 non-null    int64  \n",
      " 15  P11         137 non-null    int64  \n",
      " 16  P12         137 non-null    int64  \n",
      " 17  P13         137 non-null    float64\n",
      " 18  P14         137 non-null    int64  \n",
      " 19  P15         137 non-null    int64  \n",
      " 20  P16         137 non-null    int64  \n",
      " 21  P17         137 non-null    int64  \n",
      " 22  P18         137 non-null    int64  \n",
      " 23  P19         137 non-null    int64  \n",
      " 24  P20         137 non-null    int64  \n",
      " 25  P21         137 non-null    int64  \n",
      " 26  P22         137 non-null    int64  \n",
      " 27  P23         137 non-null    int64  \n",
      " 28  P24         137 non-null    int64  \n",
      " 29  P25         137 non-null    int64  \n",
      " 30  P26         137 non-null    float64\n",
      " 31  P27         137 non-null    float64\n",
      " 32  P28         137 non-null    float64\n",
      " 33  P29         137 non-null    float64\n",
      " 34  P30         137 non-null    int64  \n",
      " 35  P31         137 non-null    int64  \n",
      " 36  P32         137 non-null    int64  \n",
      " 37  P33         137 non-null    int64  \n",
      " 38  P34         137 non-null    int64  \n",
      " 39  P35         137 non-null    int64  \n",
      " 40  P36         137 non-null    int64  \n",
      " 41  P37         137 non-null    int64  \n",
      " 42  revenue     137 non-null    float64\n",
      "dtypes: float64(9), int64(30), object(4)\n",
      "memory usage: 46.2+ KB\n"
     ]
    }
   ],
   "source": [
    "train.info()"
   ]
  },
  {
   "cell_type": "markdown",
   "id": "5bfd54f5",
   "metadata": {},
   "source": [
    "`So we have 137 records and 43 features`\n",
    "`There are no null values in the training data`"
   ]
  },
  {
   "cell_type": "code",
   "execution_count": 40,
   "id": "0164722d",
   "metadata": {},
   "outputs": [],
   "source": [
    "train.drop(columns=['Id','Open Date','City','Type'],inplace=True)\n"
   ]
  },
  {
   "cell_type": "code",
   "execution_count": 43,
   "id": "5ee2c894",
   "metadata": {},
   "outputs": [],
   "source": [
    "label_encoder = preprocessing.LabelEncoder()\n",
    "train[\"City Group\"] = label_encoder.fit_transform(train[\"City Group\"])"
   ]
  },
  {
   "cell_type": "code",
   "execution_count": 44,
   "id": "2cfd0a6b",
   "metadata": {},
   "outputs": [],
   "source": [
    "from sklearn.preprocessing import MinMaxScaler\n",
    "\n",
    "columns_to_scale = ['P1', 'P2', 'P3', 'P4', 'P5', 'P6', 'P7', 'P8', 'P9', 'P10', 'P11', 'P12', 'P13', 'P14', 'P15', 'P16', 'P17', 'P18', 'P19', 'P20', 'P21', 'P22', 'P23', 'P24', 'P25', 'P26', 'P27', 'P28']\n",
    "\n",
    "scaler = MinMaxScaler()\n",
    "train[columns_to_scale] = scaler.fit_transform(train[columns_to_scale])"
   ]
  },
  {
   "cell_type": "code",
   "execution_count": 45,
   "id": "deea623d",
   "metadata": {},
   "outputs": [
    {
     "data": {
      "text/html": [
       "<div>\n",
       "<style scoped>\n",
       "    .dataframe tbody tr th:only-of-type {\n",
       "        vertical-align: middle;\n",
       "    }\n",
       "\n",
       "    .dataframe tbody tr th {\n",
       "        vertical-align: top;\n",
       "    }\n",
       "\n",
       "    .dataframe thead th {\n",
       "        text-align: right;\n",
       "    }\n",
       "</style>\n",
       "<table border=\"1\" class=\"dataframe\">\n",
       "  <thead>\n",
       "    <tr style=\"text-align: right;\">\n",
       "      <th></th>\n",
       "      <th>City Group</th>\n",
       "      <th>P1</th>\n",
       "      <th>P2</th>\n",
       "      <th>P3</th>\n",
       "      <th>P4</th>\n",
       "      <th>P5</th>\n",
       "      <th>P6</th>\n",
       "      <th>P7</th>\n",
       "      <th>P8</th>\n",
       "      <th>P9</th>\n",
       "      <th>...</th>\n",
       "      <th>P29</th>\n",
       "      <th>P30</th>\n",
       "      <th>P31</th>\n",
       "      <th>P32</th>\n",
       "      <th>P33</th>\n",
       "      <th>P34</th>\n",
       "      <th>P35</th>\n",
       "      <th>P36</th>\n",
       "      <th>P37</th>\n",
       "      <th>revenue</th>\n",
       "    </tr>\n",
       "  </thead>\n",
       "  <tbody>\n",
       "    <tr>\n",
       "      <th>0</th>\n",
       "      <td>0</td>\n",
       "      <td>0.272727</td>\n",
       "      <td>0.615385</td>\n",
       "      <td>0.533333</td>\n",
       "      <td>0.222222</td>\n",
       "      <td>0.142857</td>\n",
       "      <td>0.111111</td>\n",
       "      <td>0.444444</td>\n",
       "      <td>0.333333</td>\n",
       "      <td>0.166667</td>\n",
       "      <td>...</td>\n",
       "      <td>3.0</td>\n",
       "      <td>5</td>\n",
       "      <td>3</td>\n",
       "      <td>4</td>\n",
       "      <td>5</td>\n",
       "      <td>5</td>\n",
       "      <td>4</td>\n",
       "      <td>3</td>\n",
       "      <td>4</td>\n",
       "      <td>5653753.0</td>\n",
       "    </tr>\n",
       "    <tr>\n",
       "      <th>1</th>\n",
       "      <td>0</td>\n",
       "      <td>0.272727</td>\n",
       "      <td>0.615385</td>\n",
       "      <td>0.533333</td>\n",
       "      <td>0.222222</td>\n",
       "      <td>0.000000</td>\n",
       "      <td>0.111111</td>\n",
       "      <td>0.444444</td>\n",
       "      <td>0.444444</td>\n",
       "      <td>0.166667</td>\n",
       "      <td>...</td>\n",
       "      <td>3.0</td>\n",
       "      <td>0</td>\n",
       "      <td>0</td>\n",
       "      <td>0</td>\n",
       "      <td>0</td>\n",
       "      <td>0</td>\n",
       "      <td>0</td>\n",
       "      <td>0</td>\n",
       "      <td>0</td>\n",
       "      <td>6923131.0</td>\n",
       "    </tr>\n",
       "    <tr>\n",
       "      <th>2</th>\n",
       "      <td>1</td>\n",
       "      <td>0.090909</td>\n",
       "      <td>0.461538</td>\n",
       "      <td>0.266667</td>\n",
       "      <td>0.444444</td>\n",
       "      <td>0.142857</td>\n",
       "      <td>0.222222</td>\n",
       "      <td>0.444444</td>\n",
       "      <td>0.444444</td>\n",
       "      <td>0.166667</td>\n",
       "      <td>...</td>\n",
       "      <td>3.0</td>\n",
       "      <td>0</td>\n",
       "      <td>0</td>\n",
       "      <td>0</td>\n",
       "      <td>0</td>\n",
       "      <td>0</td>\n",
       "      <td>0</td>\n",
       "      <td>0</td>\n",
       "      <td>0</td>\n",
       "      <td>2055379.0</td>\n",
       "    </tr>\n",
       "    <tr>\n",
       "      <th>3</th>\n",
       "      <td>1</td>\n",
       "      <td>0.454545</td>\n",
       "      <td>0.538462</td>\n",
       "      <td>0.800000</td>\n",
       "      <td>0.666667</td>\n",
       "      <td>0.428571</td>\n",
       "      <td>0.333333</td>\n",
       "      <td>1.000000</td>\n",
       "      <td>0.777778</td>\n",
       "      <td>1.000000</td>\n",
       "      <td>...</td>\n",
       "      <td>7.5</td>\n",
       "      <td>25</td>\n",
       "      <td>12</td>\n",
       "      <td>10</td>\n",
       "      <td>6</td>\n",
       "      <td>18</td>\n",
       "      <td>12</td>\n",
       "      <td>12</td>\n",
       "      <td>6</td>\n",
       "      <td>2675511.0</td>\n",
       "    </tr>\n",
       "    <tr>\n",
       "      <th>4</th>\n",
       "      <td>1</td>\n",
       "      <td>0.181818</td>\n",
       "      <td>0.461538</td>\n",
       "      <td>0.400000</td>\n",
       "      <td>0.222222</td>\n",
       "      <td>0.142857</td>\n",
       "      <td>0.111111</td>\n",
       "      <td>0.444444</td>\n",
       "      <td>0.444444</td>\n",
       "      <td>0.166667</td>\n",
       "      <td>...</td>\n",
       "      <td>3.0</td>\n",
       "      <td>5</td>\n",
       "      <td>1</td>\n",
       "      <td>3</td>\n",
       "      <td>2</td>\n",
       "      <td>3</td>\n",
       "      <td>4</td>\n",
       "      <td>3</td>\n",
       "      <td>3</td>\n",
       "      <td>4316715.0</td>\n",
       "    </tr>\n",
       "  </tbody>\n",
       "</table>\n",
       "<p>5 rows × 39 columns</p>\n",
       "</div>"
      ],
      "text/plain": [
       "   City Group        P1        P2        P3        P4        P5        P6  \\\n",
       "0           0  0.272727  0.615385  0.533333  0.222222  0.142857  0.111111   \n",
       "1           0  0.272727  0.615385  0.533333  0.222222  0.000000  0.111111   \n",
       "2           1  0.090909  0.461538  0.266667  0.444444  0.142857  0.222222   \n",
       "3           1  0.454545  0.538462  0.800000  0.666667  0.428571  0.333333   \n",
       "4           1  0.181818  0.461538  0.400000  0.222222  0.142857  0.111111   \n",
       "\n",
       "         P7        P8        P9  ...  P29  P30  P31  P32  P33  P34  P35  P36  \\\n",
       "0  0.444444  0.333333  0.166667  ...  3.0    5    3    4    5    5    4    3   \n",
       "1  0.444444  0.444444  0.166667  ...  3.0    0    0    0    0    0    0    0   \n",
       "2  0.444444  0.444444  0.166667  ...  3.0    0    0    0    0    0    0    0   \n",
       "3  1.000000  0.777778  1.000000  ...  7.5   25   12   10    6   18   12   12   \n",
       "4  0.444444  0.444444  0.166667  ...  3.0    5    1    3    2    3    4    3   \n",
       "\n",
       "   P37    revenue  \n",
       "0    4  5653753.0  \n",
       "1    0  6923131.0  \n",
       "2    0  2055379.0  \n",
       "3    6  2675511.0  \n",
       "4    3  4316715.0  \n",
       "\n",
       "[5 rows x 39 columns]"
      ]
     },
     "execution_count": 45,
     "metadata": {},
     "output_type": "execute_result"
    }
   ],
   "source": [
    "train.head()"
   ]
  },
  {
   "cell_type": "code",
   "execution_count": 47,
   "id": "4e1a6b4d",
   "metadata": {},
   "outputs": [],
   "source": [
    "from sklearn.model_selection import train_test_split\n",
    "\n",
    "X = train.drop('revenue', axis=1)\n",
    "y = train['revenue']\n",
    "\n",
    "X_train, X_test, y_train, y_test = train_test_split(X, y, test_size=0.2, random_state=42)"
   ]
  },
  {
   "cell_type": "code",
   "execution_count": 48,
   "id": "0a9c6d7d",
   "metadata": {},
   "outputs": [],
   "source": [
    "# 1. Linear Regression\n",
    "linear_model = LinearRegression()\n",
    "linear_model.fit(X_train, y_train)\n",
    "y_pred_linear = linear_model.predict(X_test)\n",
    "mse_linear = mean_squared_error(y_test, y_pred_linear)"
   ]
  },
  {
   "cell_type": "code",
   "execution_count": 49,
   "id": "8b769747",
   "metadata": {},
   "outputs": [
    {
     "name": "stdout",
     "output_type": "stream",
     "text": [
      "Mean Squared Error (Linear Regression): 19875639708032.023\n"
     ]
    }
   ],
   "source": [
    "print(\"Mean Squared Error (Linear Regression):\", mse_linear)"
   ]
  },
  {
   "cell_type": "code",
   "execution_count": 50,
   "id": "9e0fee83",
   "metadata": {},
   "outputs": [],
   "source": [
    "# 2. Multiple Linear Regression\n",
    "multiple_linear_model = LinearRegression()\n",
    "multiple_linear_model.fit(X_train, y_train)\n",
    "y_pred_multiple_linear = multiple_linear_model.predict(X_test)\n",
    "mse_multiple_linear = mean_squared_error(y_test, y_pred_multiple_linear)"
   ]
  },
  {
   "cell_type": "code",
   "execution_count": 51,
   "id": "38eb714a",
   "metadata": {},
   "outputs": [
    {
     "name": "stdout",
     "output_type": "stream",
     "text": [
      "Mean Squared Error (Multiple Linear Regression): 19875639708032.023\n"
     ]
    }
   ],
   "source": [
    "print(\"Mean Squared Error (Multiple Linear Regression):\", mse_multiple_linear)"
   ]
  },
  {
   "cell_type": "code",
   "execution_count": 52,
   "id": "cf0e5ee9",
   "metadata": {},
   "outputs": [],
   "source": [
    "# 3. Polynomial Regression\n",
    "poly_features = PolynomialFeatures(degree=2)\n",
    "X_train_poly = poly_features.fit_transform(X_train)\n",
    "X_test_poly = poly_features.transform(X_test)\n",
    "poly_model = LinearRegression()\n",
    "poly_model.fit(X_train_poly, y_train)\n",
    "y_pred_poly = poly_model.predict(X_test_poly)\n",
    "mse_poly = mean_squared_error(y_test, y_pred_poly)"
   ]
  },
  {
   "cell_type": "code",
   "execution_count": 53,
   "id": "92ebaa32",
   "metadata": {},
   "outputs": [
    {
     "name": "stdout",
     "output_type": "stream",
     "text": [
      "Mean Squared Error (Polynomial Regression): 256893747387220.72\n"
     ]
    }
   ],
   "source": [
    "print(\"Mean Squared Error (Polynomial Regression):\", mse_poly)"
   ]
  },
  {
   "cell_type": "code",
   "execution_count": 54,
   "id": "aa426e62",
   "metadata": {},
   "outputs": [],
   "source": [
    "# 4. Decision Tree Regression\n",
    "decision_tree_model = DecisionTreeRegressor(random_state=42)\n",
    "decision_tree_model.fit(X_train, y_train)\n",
    "y_pred_decision_tree = decision_tree_model.predict(X_test)\n",
    "mse_decision_tree = mean_squared_error(y_test, y_pred_decision_tree)"
   ]
  },
  {
   "cell_type": "code",
   "execution_count": 55,
   "id": "dbcefea9",
   "metadata": {},
   "outputs": [
    {
     "name": "stdout",
     "output_type": "stream",
     "text": [
      "Mean Squared Error (Decision Tree Regression): 10188186727032.857\n"
     ]
    }
   ],
   "source": [
    "print(\"Mean Squared Error (Decision Tree Regression):\", mse_decision_tree)"
   ]
  },
  {
   "cell_type": "code",
   "execution_count": 56,
   "id": "749b3558",
   "metadata": {},
   "outputs": [],
   "source": [
    "# 5. Random Forest Regression\n",
    "random_forest_model = RandomForestRegressor(n_estimators=100, random_state=42)\n",
    "random_forest_model.fit(X_train, y_train)\n",
    "y_pred_random_forest = random_forest_model.predict(X_test)\n",
    "mse_random_forest = mean_squared_error(y_test, y_pred_random_forest)"
   ]
  },
  {
   "cell_type": "code",
   "execution_count": 57,
   "id": "6589a4bc",
   "metadata": {},
   "outputs": [
    {
     "name": "stdout",
     "output_type": "stream",
     "text": [
      "Mean Squared Error (Random Forest Regression): 10751507530897.848\n"
     ]
    }
   ],
   "source": [
    "print(\"Mean Squared Error (Random Forest Regression):\", mse_random_forest)"
   ]
  },
  {
   "cell_type": "code",
   "execution_count": 58,
   "id": "af6d6fe2",
   "metadata": {},
   "outputs": [],
   "source": [
    "feature_importances = random_forest_model.feature_importances_\n",
    "\n",
    "feature_importance_df = pd.DataFrame({'Feature': X_train.columns, 'Importance': feature_importances})\n",
    "\n",
    "feature_importance_df = feature_importance_df.sort_values(by='Importance', ascending=False)"
   ]
  },
  {
   "cell_type": "code",
   "execution_count": 59,
   "id": "6550c1fc",
   "metadata": {},
   "outputs": [
    {
     "data": {
      "image/png": "[encoded data removed]",
      "text/plain": [
       "<Figure size 1200x600 with 1 Axes>"
      ]
     },
     "metadata": {},
     "output_type": "display_data"
    }
   ],
   "source": [
    "# Visualizing feature importances\n",
    "plt.figure(figsize=(12, 6))\n",
    "sns.barplot(x='Importance', y='Feature', data=feature_importance_df)\n",
    "plt.title('Feature Importances')\n",
    "plt.xlabel('Importance')\n",
    "plt.ylabel('Feature')\n",
    "plt.show()"
   ]
  },
  {
   "cell_type": "code",
   "execution_count": 67,
   "id": "a8b403b3",
   "metadata": {},
   "outputs": [
    {
     "name": "stdout",
     "output_type": "stream",
     "text": [
      "Mean Squared Error (New Random Forest Model): 10558346549333.34\n"
     ]
    },
    {
     "name": "stderr",
     "output_type": "stream",
     "text": [
      "C:\\Users\\Msc 2\\AppData\\Local\\Temp\\ipykernel_10812\\2317258710.py:2: FutureWarning: The behavior of `series[i:j]` with an integer-dtype index is deprecated. In a future version, this will be treated as *label-based* indexing, consistent with e.g. `series[i]` lookups. To retain the old behavior, use `series.iloc[i:j]`. To get the future behavior, use `series.loc[i:j]`.\n",
      "  selected_features = feature_importance_df['Feature'][:k]\n"
     ]
    }
   ],
   "source": [
    "k = 4\n",
    "selected_features = feature_importance_df['Feature'][:k]\n",
    "\n",
    "X_train_selected = X_train[selected_features]\n",
    "X_test_selected = X_test[selected_features]\n",
    "\n",
    "new_rf_model = RandomForestRegressor(n_estimators=100, random_state=42)\n",
    "new_rf_model.fit(X_train_selected, y_train)\n",
    "\n",
    "y_pred_new_rf = new_rf_model.predict(X_test_selected)\n",
    "\n",
    "mse_new_rf = mean_squared_error(y_test, y_pred_new_rf)\n",
    "print(\"Mean Squared Error (New Random Forest Model):\", mse_new_rf)\n"
   ]
  },
  {
   "cell_type": "code",
   "execution_count": 68,
   "id": "973709e7",
   "metadata": {},
   "outputs": [
    {
     "name": "stdout",
     "output_type": "stream",
     "text": [
      "Mean Squared Error (Original Random Forest Model): 10751507530897.848\n",
      "Mean Squared Error (New Random Forest Model with Selected Features): 10558346549333.34\n"
     ]
    }
   ],
   "source": [
    "print(\"Mean Squared Error (Original Random Forest Model):\", mse_random_forest)\n",
    "print(\"Mean Squared Error (New Random Forest Model with Selected Features):\", mse_new_rf)"
   ]
  }
 ],
 "metadata": {
  "kernelspec": {
   "display_name": "Python 3 (ipykernel)",
   "language": "python",
   "name": "python3"
  },
  "language_info": {
   "codemirror_mode": {
    "name": "ipython",
    "version": 3
   },
   "file_extension": ".py",
   "mimetype": "text/x-python",
   "name": "python",
   "nbconvert_exporter": "python",
   "pygments_lexer": "ipython3",
   "version": "3.11.4"
  }
 },
 "nbformat": 4,
 "nbformat_minor": 5
}
